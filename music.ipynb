{
  "metadata": {
    "ExecuteTimeLog": [
      {
        "duration": 549,
        "start_time": "2022-02-11T21:14:45.242Z"
      },
      {
        "duration": 119,
        "start_time": "2022-02-11T21:15:38.348Z"
      },
      {
        "duration": 16,
        "start_time": "2022-02-11T21:15:58.543Z"
      },
      {
        "duration": 22,
        "start_time": "2022-02-11T21:16:22.528Z"
      },
      {
        "duration": 4,
        "start_time": "2022-02-11T21:27:31.325Z"
      },
      {
        "duration": 20,
        "start_time": "2022-02-11T21:30:08.591Z"
      },
      {
        "duration": 3,
        "start_time": "2022-02-11T21:30:28.800Z"
      },
      {
        "duration": 21,
        "start_time": "2022-02-11T21:31:27.368Z"
      },
      {
        "duration": 8104,
        "start_time": "2022-02-11T21:32:27.417Z"
      },
      {
        "duration": 16,
        "start_time": "2022-02-11T21:33:29.137Z"
      },
      {
        "duration": 20,
        "start_time": "2022-02-11T21:33:41.634Z"
      },
      {
        "duration": 55,
        "start_time": "2022-02-11T21:33:58.873Z"
      },
      {
        "duration": 57,
        "start_time": "2022-02-11T21:34:23.297Z"
      },
      {
        "duration": 47,
        "start_time": "2022-02-11T21:34:38.714Z"
      },
      {
        "duration": 6,
        "start_time": "2022-02-11T21:35:20.970Z"
      },
      {
        "duration": 382,
        "start_time": "2022-02-11T21:37:14.795Z"
      },
      {
        "duration": 3,
        "start_time": "2022-02-11T21:40:43.734Z"
      },
      {
        "duration": 8257,
        "start_time": "2022-02-11T21:41:31.846Z"
      },
      {
        "duration": 3,
        "start_time": "2022-02-11T21:43:01.892Z"
      },
      {
        "duration": 11,
        "start_time": "2022-02-11T21:43:07.071Z"
      },
      {
        "duration": 6,
        "start_time": "2022-02-11T21:43:38.927Z"
      },
      {
        "duration": 28,
        "start_time": "2022-02-11T21:44:45.400Z"
      },
      {
        "duration": 339,
        "start_time": "2022-02-11T21:45:33.519Z"
      },
      {
        "duration": 28,
        "start_time": "2022-02-11T21:45:39.392Z"
      },
      {
        "duration": 104,
        "start_time": "2022-02-11T21:50:08.203Z"
      },
      {
        "duration": 111,
        "start_time": "2022-02-11T21:50:20.059Z"
      },
      {
        "duration": 600,
        "start_time": "2022-02-11T21:50:37.292Z"
      },
      {
        "duration": 497,
        "start_time": "2022-02-11T21:50:47.883Z"
      },
      {
        "duration": 3,
        "start_time": "2022-02-11T21:50:57.227Z"
      },
      {
        "duration": 16,
        "start_time": "2022-02-11T21:51:39.187Z"
      },
      {
        "duration": 14,
        "start_time": "2022-02-11T21:51:54.524Z"
      },
      {
        "duration": 13,
        "start_time": "2022-02-11T21:52:09.468Z"
      },
      {
        "duration": 13,
        "start_time": "2022-02-11T21:52:23.108Z"
      },
      {
        "duration": 14,
        "start_time": "2022-02-11T21:52:41.389Z"
      },
      {
        "duration": 13,
        "start_time": "2022-02-11T21:52:56.837Z"
      },
      {
        "duration": 10,
        "start_time": "2022-02-11T21:54:05.533Z"
      },
      {
        "duration": 18,
        "start_time": "2022-02-11T21:55:12.246Z"
      },
      {
        "duration": 15,
        "start_time": "2022-02-11T21:55:31.389Z"
      },
      {
        "duration": 3,
        "start_time": "2022-02-11T22:00:01.480Z"
      },
      {
        "duration": 18,
        "start_time": "2022-02-11T22:01:16.457Z"
      },
      {
        "duration": 12,
        "start_time": "2022-02-11T22:01:48.906Z"
      },
      {
        "duration": 15,
        "start_time": "2022-02-11T22:02:16.009Z"
      },
      {
        "duration": 11,
        "start_time": "2022-02-11T22:02:35.450Z"
      },
      {
        "duration": 6,
        "start_time": "2022-02-12T04:58:42.652Z"
      },
      {
        "duration": 323,
        "start_time": "2022-02-12T04:58:48.740Z"
      },
      {
        "duration": 5,
        "start_time": "2022-02-12T04:59:04.853Z"
      },
      {
        "duration": 4,
        "start_time": "2022-02-12T04:59:08.501Z"
      },
      {
        "duration": 7,
        "start_time": "2022-02-12T05:00:29.798Z"
      },
      {
        "duration": 4,
        "start_time": "2022-02-12T05:00:33.358Z"
      },
      {
        "duration": 332,
        "start_time": "2022-02-12T05:01:43.015Z"
      },
      {
        "duration": 7,
        "start_time": "2022-02-12T05:02:11.207Z"
      },
      {
        "duration": 4,
        "start_time": "2022-02-12T05:02:18.255Z"
      },
      {
        "duration": 4,
        "start_time": "2022-02-12T05:06:17.946Z"
      },
      {
        "duration": 4,
        "start_time": "2022-02-12T05:08:18.954Z"
      },
      {
        "duration": 3,
        "start_time": "2022-02-12T05:08:26.131Z"
      },
      {
        "duration": 16,
        "start_time": "2022-02-12T05:08:33.282Z"
      },
      {
        "duration": 622,
        "start_time": "2022-02-13T17:24:21.763Z"
      },
      {
        "duration": 170,
        "start_time": "2022-02-13T17:24:22.387Z"
      },
      {
        "duration": 19,
        "start_time": "2022-02-13T17:24:22.560Z"
      },
      {
        "duration": 42,
        "start_time": "2022-02-13T17:24:22.581Z"
      },
      {
        "duration": 4,
        "start_time": "2022-02-13T17:24:22.625Z"
      },
      {
        "duration": 30,
        "start_time": "2022-02-13T17:24:22.631Z"
      },
      {
        "duration": 4,
        "start_time": "2022-02-13T17:24:22.662Z"
      },
      {
        "duration": 29,
        "start_time": "2022-02-13T17:24:22.669Z"
      },
      {
        "duration": 35,
        "start_time": "2022-02-13T17:24:22.701Z"
      },
      {
        "duration": 27,
        "start_time": "2022-02-13T17:24:22.738Z"
      },
      {
        "duration": 81,
        "start_time": "2022-02-13T17:24:22.767Z"
      },
      {
        "duration": 71,
        "start_time": "2022-02-13T17:24:22.851Z"
      },
      {
        "duration": 64,
        "start_time": "2022-02-13T17:24:22.925Z"
      },
      {
        "duration": 7,
        "start_time": "2022-02-13T17:24:22.991Z"
      },
      {
        "duration": 20,
        "start_time": "2022-02-13T17:24:23.000Z"
      },
      {
        "duration": 26,
        "start_time": "2022-02-13T17:24:23.022Z"
      },
      {
        "duration": 9,
        "start_time": "2022-02-13T17:24:23.051Z"
      },
      {
        "duration": 56,
        "start_time": "2022-02-13T17:24:23.062Z"
      },
      {
        "duration": 45,
        "start_time": "2022-02-13T17:24:23.120Z"
      },
      {
        "duration": 3,
        "start_time": "2022-02-13T17:24:23.167Z"
      },
      {
        "duration": 29,
        "start_time": "2022-02-13T17:24:23.172Z"
      },
      {
        "duration": 30,
        "start_time": "2022-02-13T17:24:23.203Z"
      },
      {
        "duration": 18,
        "start_time": "2022-02-13T17:24:23.237Z"
      },
      {
        "duration": 15,
        "start_time": "2022-02-13T17:24:23.257Z"
      },
      {
        "duration": 46,
        "start_time": "2022-02-13T17:24:23.274Z"
      },
      {
        "duration": 27,
        "start_time": "2022-02-13T17:24:23.322Z"
      },
      {
        "duration": 12,
        "start_time": "2022-02-13T17:24:23.352Z"
      },
      {
        "duration": 20,
        "start_time": "2022-02-13T17:24:23.366Z"
      },
      {
        "duration": 58,
        "start_time": "2022-02-13T17:24:23.388Z"
      },
      {
        "duration": 4,
        "start_time": "2022-02-13T17:24:23.448Z"
      },
      {
        "duration": 27,
        "start_time": "2022-02-13T17:24:23.454Z"
      },
      {
        "duration": 37,
        "start_time": "2022-02-13T17:24:23.482Z"
      },
      {
        "duration": 29,
        "start_time": "2022-02-13T17:24:23.521Z"
      },
      {
        "duration": 16,
        "start_time": "2022-02-13T17:24:23.552Z"
      },
      {
        "duration": 8,
        "start_time": "2022-02-13T17:24:23.570Z"
      },
      {
        "duration": 18,
        "start_time": "2022-02-13T17:24:23.580Z"
      },
      {
        "duration": 19,
        "start_time": "2022-02-13T17:24:23.600Z"
      },
      {
        "duration": 352,
        "start_time": "2022-02-13T17:24:23.622Z"
      },
      {
        "duration": 23,
        "start_time": "2022-02-13T17:36:07.183Z"
      },
      {
        "duration": 15,
        "start_time": "2022-02-13T17:36:11.476Z"
      },
      {
        "duration": 13,
        "start_time": "2022-02-13T17:36:18.139Z"
      },
      {
        "duration": 17,
        "start_time": "2022-02-13T17:37:48.674Z"
      },
      {
        "duration": 13,
        "start_time": "2022-02-13T17:37:50.657Z"
      },
      {
        "duration": 35,
        "start_time": "2022-02-13T17:37:56.240Z"
      },
      {
        "duration": 33,
        "start_time": "2022-02-13T17:37:58.019Z"
      },
      {
        "duration": 3,
        "start_time": "2022-02-13T17:38:03.785Z"
      },
      {
        "duration": 19,
        "start_time": "2022-02-13T17:38:06.701Z"
      },
      {
        "duration": 16,
        "start_time": "2022-02-13T17:38:07.662Z"
      },
      {
        "duration": 17,
        "start_time": "2022-02-13T17:38:08.648Z"
      },
      {
        "duration": 16,
        "start_time": "2022-02-13T17:38:09.619Z"
      },
      {
        "duration": 18,
        "start_time": "2022-02-13T17:38:10.422Z"
      },
      {
        "duration": 16,
        "start_time": "2022-02-13T17:38:14.425Z"
      },
      {
        "duration": 13,
        "start_time": "2022-02-13T17:38:16.674Z"
      },
      {
        "duration": 19,
        "start_time": "2022-02-13T17:38:22.223Z"
      },
      {
        "duration": 18,
        "start_time": "2022-02-13T17:38:23.025Z"
      },
      {
        "duration": 4,
        "start_time": "2022-02-13T17:38:25.643Z"
      },
      {
        "duration": 21,
        "start_time": "2022-02-13T17:38:28.070Z"
      },
      {
        "duration": 14,
        "start_time": "2022-02-13T17:38:29.361Z"
      },
      {
        "duration": 19,
        "start_time": "2022-02-13T17:38:30.682Z"
      },
      {
        "duration": 13,
        "start_time": "2022-02-13T17:38:31.962Z"
      },
      {
        "duration": 8,
        "start_time": "2022-02-13T17:38:42.374Z"
      },
      {
        "duration": 3,
        "start_time": "2022-02-13T17:49:27.580Z"
      },
      {
        "duration": 11,
        "start_time": "2022-02-13T17:49:29.898Z"
      },
      {
        "duration": 13,
        "start_time": "2022-02-13T17:49:31.868Z"
      },
      {
        "duration": 3,
        "start_time": "2022-02-13T17:50:36.263Z"
      },
      {
        "duration": 10,
        "start_time": "2022-02-13T17:50:42.395Z"
      },
      {
        "duration": 21,
        "start_time": "2022-02-13T17:50:48.912Z"
      },
      {
        "duration": 11,
        "start_time": "2022-02-13T17:54:06.492Z"
      },
      {
        "duration": 5,
        "start_time": "2022-02-13T17:54:08.622Z"
      },
      {
        "duration": 8,
        "start_time": "2022-02-13T17:54:22.094Z"
      },
      {
        "duration": 284,
        "start_time": "2022-02-13T17:54:32.392Z"
      },
      {
        "duration": 249,
        "start_time": "2022-02-13T17:55:05.556Z"
      },
      {
        "duration": 261,
        "start_time": "2022-02-13T17:55:55.211Z"
      },
      {
        "duration": 27,
        "start_time": "2022-02-13T17:56:22.707Z"
      },
      {
        "duration": 6,
        "start_time": "2022-02-13T17:56:26.440Z"
      },
      {
        "duration": 257,
        "start_time": "2022-02-13T17:56:57.808Z"
      },
      {
        "duration": 6,
        "start_time": "2022-02-13T17:57:14.935Z"
      },
      {
        "duration": 5,
        "start_time": "2022-02-13T17:57:18.696Z"
      },
      {
        "duration": 755,
        "start_time": "2022-02-20T06:10:24.032Z"
      },
      {
        "duration": 175,
        "start_time": "2022-02-20T06:10:24.791Z"
      },
      {
        "duration": 27,
        "start_time": "2022-02-20T06:10:24.972Z"
      },
      {
        "duration": 59,
        "start_time": "2022-02-20T06:10:25.001Z"
      },
      {
        "duration": 5,
        "start_time": "2022-02-20T06:10:25.063Z"
      },
      {
        "duration": 27,
        "start_time": "2022-02-20T06:10:25.071Z"
      },
      {
        "duration": 9,
        "start_time": "2022-02-20T06:10:25.102Z"
      },
      {
        "duration": 61,
        "start_time": "2022-02-20T06:10:25.114Z"
      },
      {
        "duration": 22,
        "start_time": "2022-02-20T06:10:25.178Z"
      },
      {
        "duration": 50,
        "start_time": "2022-02-20T06:10:25.202Z"
      },
      {
        "duration": 96,
        "start_time": "2022-02-20T06:10:25.254Z"
      },
      {
        "duration": 100,
        "start_time": "2022-02-20T06:10:25.353Z"
      },
      {
        "duration": 71,
        "start_time": "2022-02-20T06:10:25.456Z"
      },
      {
        "duration": 22,
        "start_time": "2022-02-20T06:10:25.530Z"
      },
      {
        "duration": 5,
        "start_time": "2022-02-20T06:10:25.554Z"
      },
      {
        "duration": 14,
        "start_time": "2022-02-20T06:10:25.561Z"
      },
      {
        "duration": 83,
        "start_time": "2022-02-20T06:10:25.578Z"
      },
      {
        "duration": 45,
        "start_time": "2022-02-20T06:10:25.663Z"
      },
      {
        "duration": 65,
        "start_time": "2022-02-20T06:10:25.711Z"
      },
      {
        "duration": 5,
        "start_time": "2022-02-20T06:10:25.778Z"
      },
      {
        "duration": 26,
        "start_time": "2022-02-20T06:10:25.785Z"
      },
      {
        "duration": 34,
        "start_time": "2022-02-20T06:10:25.816Z"
      },
      {
        "duration": 20,
        "start_time": "2022-02-20T06:10:25.852Z"
      },
      {
        "duration": 18,
        "start_time": "2022-02-20T06:10:25.875Z"
      },
      {
        "duration": 61,
        "start_time": "2022-02-20T06:10:25.895Z"
      },
      {
        "duration": 19,
        "start_time": "2022-02-20T06:10:25.958Z"
      },
      {
        "duration": 19,
        "start_time": "2022-02-20T06:10:25.979Z"
      },
      {
        "duration": 55,
        "start_time": "2022-02-20T06:10:26.000Z"
      },
      {
        "duration": 24,
        "start_time": "2022-02-20T06:10:26.058Z"
      },
      {
        "duration": 5,
        "start_time": "2022-02-20T06:10:26.084Z"
      },
      {
        "duration": 57,
        "start_time": "2022-02-20T06:10:26.092Z"
      },
      {
        "duration": 18,
        "start_time": "2022-02-20T06:10:26.151Z"
      },
      {
        "duration": 22,
        "start_time": "2022-02-20T06:10:26.172Z"
      },
      {
        "duration": 16,
        "start_time": "2022-02-20T06:10:26.197Z"
      },
      {
        "duration": 30,
        "start_time": "2022-02-20T06:10:26.249Z"
      },
      {
        "duration": 11,
        "start_time": "2022-02-20T06:10:26.282Z"
      },
      {
        "duration": 382,
        "start_time": "2022-02-20T06:10:26.296Z"
      },
      {
        "duration": -14,
        "start_time": "2022-02-20T06:10:26.695Z"
      },
      {
        "duration": 18,
        "start_time": "2022-02-20T06:14:38.927Z"
      },
      {
        "duration": 12,
        "start_time": "2022-02-20T06:14:41.305Z"
      },
      {
        "duration": 15,
        "start_time": "2022-02-20T06:16:54.137Z"
      },
      {
        "duration": 832,
        "start_time": "2022-02-20T07:09:00.300Z"
      },
      {
        "duration": 190,
        "start_time": "2022-02-20T07:09:01.135Z"
      },
      {
        "duration": 33,
        "start_time": "2022-02-20T07:09:01.328Z"
      },
      {
        "duration": 46,
        "start_time": "2022-02-20T07:09:01.364Z"
      },
      {
        "duration": 48,
        "start_time": "2022-02-20T07:09:01.413Z"
      },
      {
        "duration": 58,
        "start_time": "2022-02-20T07:09:01.464Z"
      },
      {
        "duration": 18,
        "start_time": "2022-02-20T07:09:01.526Z"
      },
      {
        "duration": 45,
        "start_time": "2022-02-20T07:09:01.547Z"
      },
      {
        "duration": 38,
        "start_time": "2022-02-20T07:09:01.595Z"
      },
      {
        "duration": 47,
        "start_time": "2022-02-20T07:09:01.636Z"
      },
      {
        "duration": 135,
        "start_time": "2022-02-20T07:09:01.686Z"
      },
      {
        "duration": 99,
        "start_time": "2022-02-20T07:09:01.824Z"
      },
      {
        "duration": 3,
        "start_time": "2022-02-20T07:09:01.926Z"
      },
      {
        "duration": 90,
        "start_time": "2022-02-20T07:09:01.931Z"
      },
      {
        "duration": 24,
        "start_time": "2022-02-20T07:09:02.024Z"
      },
      {
        "duration": 5,
        "start_time": "2022-02-20T07:09:02.052Z"
      },
      {
        "duration": 19,
        "start_time": "2022-02-20T07:09:02.060Z"
      },
      {
        "duration": 99,
        "start_time": "2022-02-20T07:09:02.082Z"
      },
      {
        "duration": 64,
        "start_time": "2022-02-20T07:09:02.184Z"
      },
      {
        "duration": 45,
        "start_time": "2022-02-20T07:09:02.251Z"
      },
      {
        "duration": 6,
        "start_time": "2022-02-20T07:09:02.298Z"
      },
      {
        "duration": 53,
        "start_time": "2022-02-20T07:09:02.310Z"
      },
      {
        "duration": 20,
        "start_time": "2022-02-20T07:09:02.366Z"
      },
      {
        "duration": 21,
        "start_time": "2022-02-20T07:09:02.389Z"
      },
      {
        "duration": 47,
        "start_time": "2022-02-20T07:09:02.413Z"
      },
      {
        "duration": 20,
        "start_time": "2022-02-20T07:09:02.463Z"
      },
      {
        "duration": 19,
        "start_time": "2022-02-20T07:09:02.486Z"
      },
      {
        "duration": 55,
        "start_time": "2022-02-20T07:09:02.507Z"
      },
      {
        "duration": 41,
        "start_time": "2022-02-20T07:09:02.566Z"
      },
      {
        "duration": 59,
        "start_time": "2022-02-20T07:09:02.610Z"
      },
      {
        "duration": 7,
        "start_time": "2022-02-20T07:09:02.672Z"
      },
      {
        "duration": 41,
        "start_time": "2022-02-20T07:09:02.681Z"
      },
      {
        "duration": 42,
        "start_time": "2022-02-20T07:09:02.724Z"
      },
      {
        "duration": 24,
        "start_time": "2022-02-20T07:09:02.769Z"
      },
      {
        "duration": 18,
        "start_time": "2022-02-20T07:09:02.796Z"
      },
      {
        "duration": 34,
        "start_time": "2022-02-20T07:09:02.850Z"
      },
      {
        "duration": 13,
        "start_time": "2022-02-20T07:09:02.887Z"
      },
      {
        "duration": 440,
        "start_time": "2022-02-20T07:09:02.903Z"
      },
      {
        "duration": -98,
        "start_time": "2022-02-20T07:09:03.445Z"
      },
      {
        "duration": 17,
        "start_time": "2022-02-20T07:22:55.495Z"
      },
      {
        "duration": 302,
        "start_time": "2022-02-22T06:16:36.914Z"
      },
      {
        "duration": 86,
        "start_time": "2022-02-22T06:17:31.852Z"
      },
      {
        "duration": 89,
        "start_time": "2022-02-22T06:17:54.753Z"
      },
      {
        "duration": 97,
        "start_time": "2022-02-22T06:18:20.858Z"
      },
      {
        "duration": 101,
        "start_time": "2022-02-22T06:19:55.054Z"
      },
      {
        "duration": 1871,
        "start_time": "2022-02-22T06:20:02.301Z"
      },
      {
        "duration": 159,
        "start_time": "2022-02-22T06:20:04.522Z"
      },
      {
        "duration": 19,
        "start_time": "2022-02-22T06:20:08.000Z"
      },
      {
        "duration": 27,
        "start_time": "2022-02-22T06:20:10.769Z"
      },
      {
        "duration": 4,
        "start_time": "2022-02-22T06:20:21.137Z"
      },
      {
        "duration": 24,
        "start_time": "2022-02-22T06:20:25.017Z"
      },
      {
        "duration": 4,
        "start_time": "2022-02-22T06:20:27.169Z"
      },
      {
        "duration": 24,
        "start_time": "2022-02-22T06:20:28.393Z"
      },
      {
        "duration": 18,
        "start_time": "2022-02-22T06:20:31.746Z"
      },
      {
        "duration": 25,
        "start_time": "2022-02-22T06:20:33.610Z"
      },
      {
        "duration": 66,
        "start_time": "2022-02-22T06:20:39.026Z"
      },
      {
        "duration": 72,
        "start_time": "2022-02-22T06:20:41.306Z"
      },
      {
        "duration": 12,
        "start_time": "2022-02-22T06:20:50.826Z"
      },
      {
        "duration": 73,
        "start_time": "2022-02-22T06:25:13.373Z"
      },
      {
        "duration": 16,
        "start_time": "2022-02-22T06:25:15.413Z"
      },
      {
        "duration": 12,
        "start_time": "2022-02-22T06:38:47.709Z"
      },
      {
        "duration": 61,
        "start_time": "2022-02-22T06:39:00.108Z"
      },
      {
        "duration": 45,
        "start_time": "2022-02-22T06:39:59.126Z"
      },
      {
        "duration": 11,
        "start_time": "2022-02-22T07:51:49.281Z"
      },
      {
        "duration": 60,
        "start_time": "2022-02-22T07:51:50.812Z"
      },
      {
        "duration": 12,
        "start_time": "2022-02-22T08:01:06.372Z"
      },
      {
        "duration": 54,
        "start_time": "2022-02-22T08:01:08.467Z"
      },
      {
        "duration": 46,
        "start_time": "2022-02-22T08:01:15.908Z"
      },
      {
        "duration": 3,
        "start_time": "2022-02-22T08:17:33.933Z"
      },
      {
        "duration": 4,
        "start_time": "2022-02-22T08:18:30.701Z"
      },
      {
        "duration": 11,
        "start_time": "2022-02-22T08:22:41.073Z"
      },
      {
        "duration": 46,
        "start_time": "2022-02-22T08:23:55.184Z"
      },
      {
        "duration": 12,
        "start_time": "2022-02-22T08:26:54.328Z"
      },
      {
        "duration": 12,
        "start_time": "2022-02-22T08:28:37.971Z"
      },
      {
        "duration": 4,
        "start_time": "2022-02-22T08:29:50.356Z"
      },
      {
        "duration": 18,
        "start_time": "2022-02-22T08:29:57.947Z"
      },
      {
        "duration": 19,
        "start_time": "2022-02-22T08:29:58.603Z"
      },
      {
        "duration": 27,
        "start_time": "2022-02-22T08:29:59.364Z"
      },
      {
        "duration": 26,
        "start_time": "2022-02-22T08:30:00.268Z"
      },
      {
        "duration": 30,
        "start_time": "2022-02-22T08:30:01.340Z"
      },
      {
        "duration": 27,
        "start_time": "2022-02-22T08:30:02.068Z"
      },
      {
        "duration": 9,
        "start_time": "2022-02-22T08:31:14.293Z"
      },
      {
        "duration": 10,
        "start_time": "2022-02-22T08:31:49.475Z"
      },
      {
        "duration": 20,
        "start_time": "2022-02-22T08:32:57.374Z"
      },
      {
        "duration": 18,
        "start_time": "2022-02-22T08:32:58.221Z"
      },
      {
        "duration": 4,
        "start_time": "2022-02-22T08:33:02.810Z"
      },
      {
        "duration": 36,
        "start_time": "2022-02-22T08:33:11.389Z"
      },
      {
        "duration": 16,
        "start_time": "2022-02-22T08:33:12.174Z"
      },
      {
        "duration": 21,
        "start_time": "2022-02-22T08:33:13.110Z"
      },
      {
        "duration": 17,
        "start_time": "2022-02-22T08:33:14.158Z"
      },
      {
        "duration": 9,
        "start_time": "2022-02-22T08:35:50.800Z"
      },
      {
        "duration": 5,
        "start_time": "2022-02-22T08:38:14.151Z"
      },
      {
        "duration": 9,
        "start_time": "2022-02-22T08:39:01.313Z"
      },
      {
        "duration": 5,
        "start_time": "2022-02-22T08:40:44.689Z"
      },
      {
        "duration": 104,
        "start_time": "2022-02-22T08:42:21.858Z"
      },
      {
        "duration": -87,
        "start_time": "2022-02-22T08:42:22.052Z"
      },
      {
        "duration": -88,
        "start_time": "2022-02-22T08:42:22.054Z"
      },
      {
        "duration": -89,
        "start_time": "2022-02-22T08:42:22.057Z"
      },
      {
        "duration": -91,
        "start_time": "2022-02-22T08:42:22.060Z"
      },
      {
        "duration": -92,
        "start_time": "2022-02-22T08:42:22.062Z"
      },
      {
        "duration": -96,
        "start_time": "2022-02-22T08:42:22.067Z"
      },
      {
        "duration": -97,
        "start_time": "2022-02-22T08:42:22.070Z"
      },
      {
        "duration": -98,
        "start_time": "2022-02-22T08:42:22.072Z"
      },
      {
        "duration": -99,
        "start_time": "2022-02-22T08:42:22.074Z"
      },
      {
        "duration": -101,
        "start_time": "2022-02-22T08:42:22.077Z"
      },
      {
        "duration": -102,
        "start_time": "2022-02-22T08:42:22.080Z"
      },
      {
        "duration": -105,
        "start_time": "2022-02-22T08:42:22.084Z"
      },
      {
        "duration": -106,
        "start_time": "2022-02-22T08:42:22.086Z"
      },
      {
        "duration": -107,
        "start_time": "2022-02-22T08:42:22.088Z"
      },
      {
        "duration": -109,
        "start_time": "2022-02-22T08:42:22.091Z"
      },
      {
        "duration": -111,
        "start_time": "2022-02-22T08:42:22.094Z"
      },
      {
        "duration": 332,
        "start_time": "2022-02-22T08:42:21.986Z"
      },
      {
        "duration": 11,
        "start_time": "2022-02-22T08:42:22.309Z"
      },
      {
        "duration": 10,
        "start_time": "2022-02-22T08:42:22.312Z"
      },
      {
        "duration": 6,
        "start_time": "2022-02-22T08:42:22.317Z"
      },
      {
        "duration": 5,
        "start_time": "2022-02-22T08:42:22.319Z"
      },
      {
        "duration": 4,
        "start_time": "2022-02-22T08:42:22.321Z"
      },
      {
        "duration": 2,
        "start_time": "2022-02-22T08:42:22.324Z"
      },
      {
        "duration": 1,
        "start_time": "2022-02-22T08:42:22.326Z"
      },
      {
        "duration": -1,
        "start_time": "2022-02-22T08:42:22.329Z"
      },
      {
        "duration": -6,
        "start_time": "2022-02-22T08:42:22.335Z"
      },
      {
        "duration": -6,
        "start_time": "2022-02-22T08:42:22.337Z"
      },
      {
        "duration": -10,
        "start_time": "2022-02-22T08:42:22.342Z"
      },
      {
        "duration": -9,
        "start_time": "2022-02-22T08:42:22.344Z"
      },
      {
        "duration": -13,
        "start_time": "2022-02-22T08:42:22.349Z"
      },
      {
        "duration": -13,
        "start_time": "2022-02-22T08:42:22.351Z"
      },
      {
        "duration": -15,
        "start_time": "2022-02-22T08:42:22.354Z"
      },
      {
        "duration": -15,
        "start_time": "2022-02-22T08:42:22.356Z"
      },
      {
        "duration": -17,
        "start_time": "2022-02-22T08:42:22.359Z"
      },
      {
        "duration": -17,
        "start_time": "2022-02-22T08:42:22.361Z"
      },
      {
        "duration": -18,
        "start_time": "2022-02-22T08:42:22.363Z"
      },
      {
        "duration": -19,
        "start_time": "2022-02-22T08:42:22.366Z"
      },
      {
        "duration": -19,
        "start_time": "2022-02-22T08:42:22.368Z"
      },
      {
        "duration": -20,
        "start_time": "2022-02-22T08:42:22.370Z"
      },
      {
        "duration": 82,
        "start_time": "2022-02-22T13:06:06.914Z"
      },
      {
        "duration": 1169,
        "start_time": "2022-02-22T13:06:05.831Z"
      },
      {
        "duration": 1167,
        "start_time": "2022-02-22T13:06:05.834Z"
      },
      {
        "duration": 1166,
        "start_time": "2022-02-22T13:06:05.836Z"
      },
      {
        "duration": 1164,
        "start_time": "2022-02-22T13:06:05.840Z"
      },
      {
        "duration": 1163,
        "start_time": "2022-02-22T13:06:05.842Z"
      },
      {
        "duration": 1163,
        "start_time": "2022-02-22T13:06:05.844Z"
      },
      {
        "duration": 1163,
        "start_time": "2022-02-22T13:06:05.846Z"
      },
      {
        "duration": 1163,
        "start_time": "2022-02-22T13:06:05.848Z"
      },
      {
        "duration": 1163,
        "start_time": "2022-02-22T13:06:05.850Z"
      },
      {
        "duration": 1155,
        "start_time": "2022-02-22T13:06:05.860Z"
      },
      {
        "duration": 1155,
        "start_time": "2022-02-22T13:06:05.862Z"
      },
      {
        "duration": 1155,
        "start_time": "2022-02-22T13:06:05.864Z"
      },
      {
        "duration": 1155,
        "start_time": "2022-02-22T13:06:05.866Z"
      },
      {
        "duration": 1155,
        "start_time": "2022-02-22T13:06:05.868Z"
      },
      {
        "duration": 1155,
        "start_time": "2022-02-22T13:06:05.870Z"
      },
      {
        "duration": 1154,
        "start_time": "2022-02-22T13:06:05.872Z"
      },
      {
        "duration": 1154,
        "start_time": "2022-02-22T13:06:05.874Z"
      },
      {
        "duration": 1154,
        "start_time": "2022-02-22T13:06:05.876Z"
      },
      {
        "duration": 1153,
        "start_time": "2022-02-22T13:06:05.878Z"
      },
      {
        "duration": 1153,
        "start_time": "2022-02-22T13:06:05.879Z"
      },
      {
        "duration": 1153,
        "start_time": "2022-02-22T13:06:05.881Z"
      },
      {
        "duration": 1152,
        "start_time": "2022-02-22T13:06:05.883Z"
      },
      {
        "duration": 1151,
        "start_time": "2022-02-22T13:06:05.885Z"
      },
      {
        "duration": 1150,
        "start_time": "2022-02-22T13:06:05.887Z"
      },
      {
        "duration": 1151,
        "start_time": "2022-02-22T13:06:05.888Z"
      },
      {
        "duration": 1150,
        "start_time": "2022-02-22T13:06:05.890Z"
      },
      {
        "duration": 1149,
        "start_time": "2022-02-22T13:06:05.892Z"
      },
      {
        "duration": 1127,
        "start_time": "2022-02-22T13:06:05.915Z"
      },
      {
        "duration": 1117,
        "start_time": "2022-02-22T13:06:05.926Z"
      },
      {
        "duration": 1112,
        "start_time": "2022-02-22T13:06:05.933Z"
      },
      {
        "duration": 1112,
        "start_time": "2022-02-22T13:06:05.935Z"
      },
      {
        "duration": 1107,
        "start_time": "2022-02-22T13:06:05.941Z"
      },
      {
        "duration": 1104,
        "start_time": "2022-02-22T13:06:05.945Z"
      },
      {
        "duration": 1104,
        "start_time": "2022-02-22T13:06:05.947Z"
      },
      {
        "duration": 1093,
        "start_time": "2022-02-22T13:06:05.958Z"
      },
      {
        "duration": 350,
        "start_time": "2022-02-22T13:06:07.053Z"
      },
      {
        "duration": 1135,
        "start_time": "2022-02-22T13:06:06.270Z"
      },
      {
        "duration": 1134,
        "start_time": "2022-02-22T13:06:06.272Z"
      },
      {
        "duration": 1134,
        "start_time": "2022-02-22T13:06:06.274Z"
      },
      {
        "duration": 83,
        "start_time": "2022-02-22T13:06:52.545Z"
      },
      {
        "duration": 718,
        "start_time": "2022-02-22T13:07:05.854Z"
      },
      {
        "duration": 174,
        "start_time": "2022-02-22T13:07:06.575Z"
      },
      {
        "duration": 20,
        "start_time": "2022-02-22T13:07:06.751Z"
      },
      {
        "duration": 49,
        "start_time": "2022-02-22T13:07:06.773Z"
      },
      {
        "duration": 13,
        "start_time": "2022-02-22T13:07:06.824Z"
      },
      {
        "duration": 45,
        "start_time": "2022-02-22T13:07:06.840Z"
      },
      {
        "duration": 13,
        "start_time": "2022-02-22T13:07:06.887Z"
      },
      {
        "duration": 44,
        "start_time": "2022-02-22T13:07:06.902Z"
      },
      {
        "duration": 29,
        "start_time": "2022-02-22T13:07:06.948Z"
      },
      {
        "duration": 34,
        "start_time": "2022-02-22T13:07:06.979Z"
      },
      {
        "duration": 81,
        "start_time": "2022-02-22T13:07:07.015Z"
      },
      {
        "duration": 88,
        "start_time": "2022-02-22T13:07:07.098Z"
      },
      {
        "duration": 24,
        "start_time": "2022-02-22T13:07:07.188Z"
      },
      {
        "duration": 84,
        "start_time": "2022-02-22T13:07:07.215Z"
      },
      {
        "duration": 57,
        "start_time": "2022-02-22T13:07:07.301Z"
      },
      {
        "duration": 4,
        "start_time": "2022-02-22T13:07:07.360Z"
      },
      {
        "duration": 27,
        "start_time": "2022-02-22T13:07:07.366Z"
      },
      {
        "duration": 60,
        "start_time": "2022-02-22T13:07:07.397Z"
      },
      {
        "duration": 12,
        "start_time": "2022-02-22T13:07:07.459Z"
      },
      {
        "duration": 37,
        "start_time": "2022-02-22T13:07:07.473Z"
      },
      {
        "duration": 6,
        "start_time": "2022-02-22T13:07:07.513Z"
      },
      {
        "duration": 54,
        "start_time": "2022-02-22T13:07:07.521Z"
      },
      {
        "duration": 19,
        "start_time": "2022-02-22T13:07:07.578Z"
      },
      {
        "duration": 33,
        "start_time": "2022-02-22T13:07:07.599Z"
      },
      {
        "duration": 35,
        "start_time": "2022-02-22T13:07:07.634Z"
      },
      {
        "duration": 23,
        "start_time": "2022-02-22T13:07:07.671Z"
      },
      {
        "duration": 24,
        "start_time": "2022-02-22T13:07:07.697Z"
      },
      {
        "duration": 40,
        "start_time": "2022-02-22T13:07:07.723Z"
      },
      {
        "duration": 46,
        "start_time": "2022-02-22T13:07:07.766Z"
      },
      {
        "duration": 19,
        "start_time": "2022-02-22T13:07:07.815Z"
      },
      {
        "duration": 12,
        "start_time": "2022-02-22T13:07:07.836Z"
      },
      {
        "duration": 40,
        "start_time": "2022-02-22T13:07:07.850Z"
      },
      {
        "duration": 33,
        "start_time": "2022-02-22T13:07:07.892Z"
      },
      {
        "duration": 34,
        "start_time": "2022-02-22T13:07:07.928Z"
      },
      {
        "duration": 15,
        "start_time": "2022-02-22T13:07:07.965Z"
      },
      {
        "duration": 14,
        "start_time": "2022-02-22T13:07:07.982Z"
      },
      {
        "duration": 16,
        "start_time": "2022-02-22T13:07:07.998Z"
      },
      {
        "duration": 29,
        "start_time": "2022-02-22T13:07:08.016Z"
      },
      {
        "duration": 23,
        "start_time": "2022-02-22T13:07:08.048Z"
      },
      {
        "duration": 13,
        "start_time": "2022-02-22T13:31:56.265Z"
      },
      {
        "duration": 767,
        "start_time": "2022-02-22T13:51:33.084Z"
      },
      {
        "duration": 190,
        "start_time": "2022-02-22T13:51:34.675Z"
      },
      {
        "duration": 26,
        "start_time": "2022-02-22T13:51:36.992Z"
      },
      {
        "duration": 38,
        "start_time": "2022-02-22T13:51:39.871Z"
      },
      {
        "duration": 6,
        "start_time": "2022-02-22T13:51:49.558Z"
      },
      {
        "duration": 39,
        "start_time": "2022-02-22T13:51:51.310Z"
      },
      {
        "duration": 6,
        "start_time": "2022-02-22T13:51:59.598Z"
      },
      {
        "duration": 32,
        "start_time": "2022-02-22T13:52:04.766Z"
      },
      {
        "duration": 25,
        "start_time": "2022-02-22T13:52:10.382Z"
      },
      {
        "duration": 33,
        "start_time": "2022-02-22T13:52:13.839Z"
      },
      {
        "duration": 92,
        "start_time": "2022-02-22T13:52:15.238Z"
      },
      {
        "duration": 98,
        "start_time": "2022-02-22T13:52:23.735Z"
      },
      {
        "duration": 17,
        "start_time": "2022-02-22T13:52:26.304Z"
      },
      {
        "duration": 84,
        "start_time": "2022-02-22T13:52:34.784Z"
      },
      {
        "duration": 61,
        "start_time": "2022-02-22T13:52:36.764Z"
      },
      {
        "duration": 4,
        "start_time": "2022-02-22T13:52:48.533Z"
      },
      {
        "duration": 15,
        "start_time": "2022-02-22T13:52:50.551Z"
      },
      {
        "duration": 62,
        "start_time": "2022-02-22T13:52:57.472Z"
      },
      {
        "duration": 18,
        "start_time": "2022-02-22T13:53:09.071Z"
      },
      {
        "duration": 18,
        "start_time": "2022-02-22T13:53:14.503Z"
      },
      {
        "duration": 6,
        "start_time": "2022-02-22T13:53:18.663Z"
      },
      {
        "duration": 21,
        "start_time": "2022-02-22T13:53:19.968Z"
      },
      {
        "duration": 21,
        "start_time": "2022-02-22T13:53:20.551Z"
      },
      {
        "duration": 20,
        "start_time": "2022-02-22T13:53:21.007Z"
      },
      {
        "duration": 19,
        "start_time": "2022-02-22T13:53:21.545Z"
      },
      {
        "duration": 20,
        "start_time": "2022-02-22T13:53:23.688Z"
      },
      {
        "duration": 18,
        "start_time": "2022-02-22T13:53:24.207Z"
      },
      {
        "duration": 17,
        "start_time": "2022-02-22T13:53:26.007Z"
      },
      {
        "duration": 29,
        "start_time": "2022-02-22T13:53:32.895Z"
      },
      {
        "duration": 28,
        "start_time": "2022-02-22T13:53:33.408Z"
      },
      {
        "duration": 5,
        "start_time": "2022-02-22T13:53:36.320Z"
      },
      {
        "duration": 27,
        "start_time": "2022-02-22T13:53:37.392Z"
      },
      {
        "duration": 18,
        "start_time": "2022-02-22T13:53:37.903Z"
      },
      {
        "duration": 24,
        "start_time": "2022-02-22T13:53:38.744Z"
      },
      {
        "duration": 17,
        "start_time": "2022-02-22T13:53:39.353Z"
      },
      {
        "duration": 12,
        "start_time": "2022-02-22T13:53:46.768Z"
      },
      {
        "duration": 6,
        "start_time": "2022-02-22T13:53:48.548Z"
      },
      {
        "duration": 9,
        "start_time": "2022-02-22T13:53:53.335Z"
      },
      {
        "duration": 7,
        "start_time": "2022-02-22T13:53:55.281Z"
      },
      {
        "duration": 741,
        "start_time": "2022-02-22T15:31:12.658Z"
      },
      {
        "duration": 199,
        "start_time": "2022-02-22T15:31:13.402Z"
      },
      {
        "duration": 27,
        "start_time": "2022-02-22T15:31:13.604Z"
      },
      {
        "duration": 59,
        "start_time": "2022-02-22T15:31:13.634Z"
      },
      {
        "duration": 6,
        "start_time": "2022-02-22T15:31:13.695Z"
      },
      {
        "duration": 41,
        "start_time": "2022-02-22T15:31:13.703Z"
      },
      {
        "duration": 12,
        "start_time": "2022-02-22T15:31:13.746Z"
      },
      {
        "duration": 44,
        "start_time": "2022-02-22T15:31:13.761Z"
      },
      {
        "duration": 28,
        "start_time": "2022-02-22T15:31:13.809Z"
      },
      {
        "duration": 31,
        "start_time": "2022-02-22T15:31:13.840Z"
      },
      {
        "duration": 123,
        "start_time": "2022-02-22T15:31:13.873Z"
      },
      {
        "duration": 117,
        "start_time": "2022-02-22T15:31:13.998Z"
      },
      {
        "duration": 21,
        "start_time": "2022-02-22T15:31:14.117Z"
      },
      {
        "duration": 103,
        "start_time": "2022-02-22T15:31:14.140Z"
      },
      {
        "duration": 57,
        "start_time": "2022-02-22T15:31:14.246Z"
      },
      {
        "duration": 20,
        "start_time": "2022-02-22T15:31:14.306Z"
      },
      {
        "duration": 19,
        "start_time": "2022-02-22T15:31:14.328Z"
      },
      {
        "duration": 79,
        "start_time": "2022-02-22T15:31:14.350Z"
      },
      {
        "duration": 15,
        "start_time": "2022-02-22T15:31:14.431Z"
      },
      {
        "duration": 17,
        "start_time": "2022-02-22T15:31:14.448Z"
      },
      {
        "duration": 5,
        "start_time": "2022-02-22T15:31:14.467Z"
      },
      {
        "duration": 60,
        "start_time": "2022-02-22T15:31:14.475Z"
      },
      {
        "duration": 19,
        "start_time": "2022-02-22T15:31:14.537Z"
      },
      {
        "duration": 19,
        "start_time": "2022-02-22T15:31:14.558Z"
      },
      {
        "duration": 49,
        "start_time": "2022-02-22T15:31:14.579Z"
      },
      {
        "duration": 21,
        "start_time": "2022-02-22T15:31:14.630Z"
      },
      {
        "duration": 19,
        "start_time": "2022-02-22T15:31:14.656Z"
      },
      {
        "duration": 49,
        "start_time": "2022-02-22T15:31:14.677Z"
      },
      {
        "duration": 26,
        "start_time": "2022-02-22T15:31:14.729Z"
      },
      {
        "duration": 23,
        "start_time": "2022-02-22T15:31:14.757Z"
      },
      {
        "duration": 5,
        "start_time": "2022-02-22T15:31:14.783Z"
      },
      {
        "duration": 64,
        "start_time": "2022-02-22T15:31:14.791Z"
      },
      {
        "duration": 17,
        "start_time": "2022-02-22T15:31:14.857Z"
      },
      {
        "duration": 21,
        "start_time": "2022-02-22T15:31:14.876Z"
      },
      {
        "duration": 42,
        "start_time": "2022-02-22T15:31:14.899Z"
      },
      {
        "duration": 11,
        "start_time": "2022-02-22T15:31:14.944Z"
      },
      {
        "duration": 6,
        "start_time": "2022-02-22T15:31:14.958Z"
      },
      {
        "duration": 9,
        "start_time": "2022-02-22T15:31:14.966Z"
      },
      {
        "duration": 6,
        "start_time": "2022-02-22T15:31:14.977Z"
      }
    ],
    "colab": {
      "collapsed_sections": [
        "E0vqbgi9ay0H",
        "VUC88oWjTJw2"
      ],
      "name": "yandex_music_project_2021.2.ipynb",
      "provenance": []
    },
    "kernelspec": {
      "name": "python",
      "display_name": "Python (Pyodide)",
      "language": "python"
    },
    "language_info": {
      "codemirror_mode": {
        "name": "python",
        "version": 3
      },
      "file_extension": ".py",
      "mimetype": "text/x-python",
      "name": "python",
      "nbconvert_exporter": "python",
      "pygments_lexer": "ipython3",
      "version": "3.8"
    },
    "toc": {
      "base_numbering": 1,
      "nav_menu": {},
      "number_sections": true,
      "sideBar": true,
      "skip_h1_title": true,
      "title_cell": "Table of Contents",
      "title_sidebar": "Contents",
      "toc_cell": false,
      "toc_position": {},
      "toc_section_display": true,
      "toc_window_display": false
    }
  },
  "nbformat_minor": 4,
  "nbformat": 4,
  "cells": [
    {
      "cell_type": "markdown",
      "source": "# Яндекс.Музыка",
      "metadata": {
        "id": "E0vqbgi9ay0H"
      }
    },
    {
      "cell_type": "markdown",
      "source": "Сравнение Москвы и Петербурга окружено мифами. Например:\n * Москва — мегаполис, подчинённый жёсткому ритму рабочей недели;\n * Петербург — культурная столица, со своими вкусами.\n\nНа данных Яндекс.Музыки вы сравните поведение пользователей двух столиц.\n\n**Цель исследования** — проверьте три гипотезы:\n1. Активность пользователей зависит от дня недели. Причём в Москве и Петербурге это проявляется по-разному.\n2. В понедельник утром в Москве преобладают одни жанры, а в Петербурге — другие. Так же и вечером пятницы преобладают разные жанры — в зависимости от города. \n3. Москва и Петербург предпочитают разные жанры музыки. В Москве чаще слушают поп-музыку, в Петербурге — русский рэп.\n\n**Ход исследования**\n\nДанные о поведении пользователей вы получите из файла `yandex_music_project.csv`. О качестве данных ничего не известно. Поэтому перед проверкой гипотез понадобится обзор данных. \n\nВы проверите данные на ошибки и оцените их влияние на исследование. Затем, на этапе предобработки вы поищете возможность исправить самые критичные ошибки данных.\n \nТаким образом, исследование пройдёт в три этапа:\n 1. Обзор данных.\n 2. Предобработка данных.\n 3. Проверка гипотез.\n\n",
      "metadata": {
        "id": "VUC88oWjTJw2"
      }
    },
    {
      "cell_type": "markdown",
      "source": "## Обзор данных\n\nСоставьте первое представление о данных Яндекс.Музыки.\n\n\n",
      "metadata": {
        "id": "Ml1hmfXC_Zcs"
      }
    },
    {
      "cell_type": "markdown",
      "source": "Основной инструмент аналитика — `pandas`. Импортируйте эту библиотеку.",
      "metadata": {
        "id": "57eAOGIz_Zcs"
      }
    },
    {
      "cell_type": "code",
      "source": "import pandas as pd # импорт библиотеки pandas",
      "metadata": {
        "id": "AXN7PHPN_Zcs"
      },
      "execution_count": 1,
      "outputs": []
    },
    {
      "cell_type": "markdown",
      "source": "Прочитайте файл `yandex_music_project.csv` из папки `/datasets` и сохраните его в переменной `df`:",
      "metadata": {
        "id": "SG23P8tt_Zcs"
      }
    },
    {
      "cell_type": "code",
      "source": "df = pd.read_csv('/datasets/yandex_music_project.csv') # чтение файла с данными и сохранение в df",
      "metadata": {
        "id": "fFVu7vqh_Zct"
      },
      "execution_count": 2,
      "outputs": []
    },
    {
      "cell_type": "markdown",
      "source": "Выведите на экран первые десять строк таблицы:",
      "metadata": {
        "id": "rDoOMd3uTqnZ"
      }
    },
    {
      "cell_type": "code",
      "source": "df.head(10) # получение первых 10 строк таблицы df",
      "metadata": {
        "id": "oWTVX3gW_Zct"
      },
      "execution_count": 3,
      "outputs": [
        {
          "execution_count": 3,
          "output_type": "execute_result",
          "data": {
            "text/html": [
              "<div>\n",
              "<style scoped>\n",
              "    .dataframe tbody tr th:only-of-type {\n",
              "        vertical-align: middle;\n",
              "    }\n",
              "\n",
              "    .dataframe tbody tr th {\n",
              "        vertical-align: top;\n",
              "    }\n",
              "\n",
              "    .dataframe thead th {\n",
              "        text-align: right;\n",
              "    }\n",
              "</style>\n",
              "<table border=\"1\" class=\"dataframe\">\n",
              "  <thead>\n",
              "    <tr style=\"text-align: right;\">\n",
              "      <th></th>\n",
              "      <th>userID</th>\n",
              "      <th>Track</th>\n",
              "      <th>artist</th>\n",
              "      <th>genre</th>\n",
              "      <th>City</th>\n",
              "      <th>time</th>\n",
              "      <th>Day</th>\n",
              "    </tr>\n",
              "  </thead>\n",
              "  <tbody>\n",
              "    <tr>\n",
              "      <td>0</td>\n",
              "      <td>FFB692EC</td>\n",
              "      <td>Kamigata To Boots</td>\n",
              "      <td>The Mass Missile</td>\n",
              "      <td>rock</td>\n",
              "      <td>Saint-Petersburg</td>\n",
              "      <td>20:28:33</td>\n",
              "      <td>Wednesday</td>\n",
              "    </tr>\n",
              "    <tr>\n",
              "      <td>1</td>\n",
              "      <td>55204538</td>\n",
              "      <td>Delayed Because of Accident</td>\n",
              "      <td>Andreas Rönnberg</td>\n",
              "      <td>rock</td>\n",
              "      <td>Moscow</td>\n",
              "      <td>14:07:09</td>\n",
              "      <td>Friday</td>\n",
              "    </tr>\n",
              "    <tr>\n",
              "      <td>2</td>\n",
              "      <td>20EC38</td>\n",
              "      <td>Funiculì funiculà</td>\n",
              "      <td>Mario Lanza</td>\n",
              "      <td>pop</td>\n",
              "      <td>Saint-Petersburg</td>\n",
              "      <td>20:58:07</td>\n",
              "      <td>Wednesday</td>\n",
              "    </tr>\n",
              "    <tr>\n",
              "      <td>3</td>\n",
              "      <td>A3DD03C9</td>\n",
              "      <td>Dragons in the Sunset</td>\n",
              "      <td>Fire + Ice</td>\n",
              "      <td>folk</td>\n",
              "      <td>Saint-Petersburg</td>\n",
              "      <td>08:37:09</td>\n",
              "      <td>Monday</td>\n",
              "    </tr>\n",
              "    <tr>\n",
              "      <td>4</td>\n",
              "      <td>E2DC1FAE</td>\n",
              "      <td>Soul People</td>\n",
              "      <td>Space Echo</td>\n",
              "      <td>dance</td>\n",
              "      <td>Moscow</td>\n",
              "      <td>08:34:34</td>\n",
              "      <td>Monday</td>\n",
              "    </tr>\n",
              "    <tr>\n",
              "      <td>5</td>\n",
              "      <td>842029A1</td>\n",
              "      <td>Преданная</td>\n",
              "      <td>IMPERVTOR</td>\n",
              "      <td>rusrap</td>\n",
              "      <td>Saint-Petersburg</td>\n",
              "      <td>13:09:41</td>\n",
              "      <td>Friday</td>\n",
              "    </tr>\n",
              "    <tr>\n",
              "      <td>6</td>\n",
              "      <td>4CB90AA5</td>\n",
              "      <td>True</td>\n",
              "      <td>Roman Messer</td>\n",
              "      <td>dance</td>\n",
              "      <td>Moscow</td>\n",
              "      <td>13:00:07</td>\n",
              "      <td>Wednesday</td>\n",
              "    </tr>\n",
              "    <tr>\n",
              "      <td>7</td>\n",
              "      <td>F03E1C1F</td>\n",
              "      <td>Feeling This Way</td>\n",
              "      <td>Polina Griffith</td>\n",
              "      <td>dance</td>\n",
              "      <td>Moscow</td>\n",
              "      <td>20:47:49</td>\n",
              "      <td>Wednesday</td>\n",
              "    </tr>\n",
              "    <tr>\n",
              "      <td>8</td>\n",
              "      <td>8FA1D3BE</td>\n",
              "      <td>И вновь продолжается бой</td>\n",
              "      <td>NaN</td>\n",
              "      <td>ruspop</td>\n",
              "      <td>Moscow</td>\n",
              "      <td>09:17:40</td>\n",
              "      <td>Friday</td>\n",
              "    </tr>\n",
              "    <tr>\n",
              "      <td>9</td>\n",
              "      <td>E772D5C0</td>\n",
              "      <td>Pessimist</td>\n",
              "      <td>NaN</td>\n",
              "      <td>dance</td>\n",
              "      <td>Saint-Petersburg</td>\n",
              "      <td>21:20:49</td>\n",
              "      <td>Wednesday</td>\n",
              "    </tr>\n",
              "  </tbody>\n",
              "</table>\n",
              "</div>"
            ],
            "text/plain": [
              "     userID                        Track            artist   genre  \\\n",
              "0  FFB692EC            Kamigata To Boots  The Mass Missile    rock   \n",
              "1  55204538  Delayed Because of Accident  Andreas Rönnberg    rock   \n",
              "2    20EC38            Funiculì funiculà       Mario Lanza     pop   \n",
              "3  A3DD03C9        Dragons in the Sunset        Fire + Ice    folk   \n",
              "4  E2DC1FAE                  Soul People        Space Echo   dance   \n",
              "5  842029A1                    Преданная         IMPERVTOR  rusrap   \n",
              "6  4CB90AA5                         True      Roman Messer   dance   \n",
              "7  F03E1C1F             Feeling This Way   Polina Griffith   dance   \n",
              "8  8FA1D3BE     И вновь продолжается бой               NaN  ruspop   \n",
              "9  E772D5C0                    Pessimist               NaN   dance   \n",
              "\n",
              "             City        time        Day  \n",
              "0  Saint-Petersburg  20:28:33  Wednesday  \n",
              "1            Moscow  14:07:09     Friday  \n",
              "2  Saint-Petersburg  20:58:07  Wednesday  \n",
              "3  Saint-Petersburg  08:37:09     Monday  \n",
              "4            Moscow  08:34:34     Monday  \n",
              "5  Saint-Petersburg  13:09:41     Friday  \n",
              "6            Moscow  13:00:07  Wednesday  \n",
              "7            Moscow  20:47:49  Wednesday  \n",
              "8            Moscow  09:17:40     Friday  \n",
              "9  Saint-Petersburg  21:20:49  Wednesday  "
            ]
          },
          "metadata": {}
        }
      ]
    },
    {
      "cell_type": "markdown",
      "source": "Одной командой получить общую информацию о таблице:",
      "metadata": {
        "id": "EO73Kwic_Zct"
      }
    },
    {
      "cell_type": "code",
      "source": "df.info() # получение общей информации о данных в таблице df",
      "metadata": {
        "id": "DSf2kIb-_Zct"
      },
      "execution_count": 4,
      "outputs": [
        {
          "name": "stdout",
          "output_type": "stream",
          "text": "<class 'pandas.core.frame.DataFrame'>\n\nRangeIndex: 65079 entries, 0 to 65078\n\nData columns (total 7 columns):\n\n  userID    65079 non-null object\n\nTrack       63848 non-null object\n\nartist      57876 non-null object\n\ngenre       63881 non-null object\n\n  City      65079 non-null object\n\ntime        65079 non-null object\n\nDay         65079 non-null object\n\ndtypes: object(7)\n\nmemory usage: 3.5+ MB\n"
        }
      ]
    },
    {
      "cell_type": "markdown",
      "source": "Итак, в таблице семь столбцов. Тип данных во всех столбцах — `object`.\n\nСогласно документации к данным:\n* `userID` — идентификатор пользователя;\n* `Track` — название трека;  \n* `artist` — имя исполнителя;\n* `genre` — название жанра;\n* `City` — город пользователя;\n* `time` — время начала прослушивания;\n* `Day` — день недели.\n\nВ названиях колонок видны три нарушения стиля:\n1. Строчные буквы сочетаются с прописными.\n2. Встречаются пробелы.\n3. Найдите ещё одну проблему в названии колонок и опишите её в этом пункте: userID удабней было бы записать в змеином регистре.\n\n\n\nКоличество значений в столбцах различается. Значит, в данных есть пропущенные значения.\n",
      "metadata": {
        "id": "TaQ2Iwbr_Zct"
      }
    },
    {
      "cell_type": "markdown",
      "source": "**Выводы**\n\nВ каждой строке таблицы — данные о прослушанном треке. Часть колонок описывает саму композицию: название, исполнителя и жанр. Остальные данные рассказывают о пользователе: из какого он города, когда он слушал музыку. \n\nПредварительно можно утверждать, что, данных достаточно для проверки гипотез. Но встречаются пропуски в данных, а в названиях колонок — расхождения с хорошим стилем.\n\nЧтобы двигаться дальше, нужно устранить проблемы в данных.",
      "metadata": {
        "id": "MCB6-dXG_Zct"
      }
    },
    {
      "cell_type": "markdown",
      "source": "## Предобработка данных\nИсправьте стиль в заголовках столбцов, исключите пропуски. Затем проверьте данные на дубликаты.",
      "metadata": {
        "id": "SjYF6Ub9_Zct"
      }
    },
    {
      "cell_type": "markdown",
      "source": "### Стиль заголовков\nВыведите на экран названия столбцов:",
      "metadata": {
        "id": "dIaKXr29_Zct"
      }
    },
    {
      "cell_type": "code",
      "source": "df.columns # перечень названий столбцов таблицы df",
      "metadata": {
        "id": "oKOTdF_Q_Zct"
      },
      "execution_count": 5,
      "outputs": [
        {
          "execution_count": 5,
          "output_type": "execute_result",
          "data": {
            "text/plain": [
              "Index(['  userID', 'Track', 'artist', 'genre', '  City  ', 'time', 'Day'], dtype='object')"
            ]
          },
          "metadata": {}
        }
      ]
    },
    {
      "cell_type": "markdown",
      "source": "Приведите названия в соответствие с хорошим стилем:\n* несколько слов в названии запишите в «змеином_регистре»,\n* все символы сделайте строчными,\n* устраните пробелы.\n\nДля этого переименуйте колонки так:\n* `'  userID'` → `'user_id'`;\n* `'Track'` → `'track'`;\n* `'  City  '` → `'city'`;\n* `'Day'` → `'day'`.",
      "metadata": {
        "id": "zj5534cv_Zct"
      }
    },
    {
      "cell_type": "code",
      "source": "df = df.rename(columns={'  userID': 'user_id', 'Track': 'track', '  City  ': 'city', 'Day' : 'day'})# переименование столбцов",
      "metadata": {
        "id": "ISlFqs5y_Zct"
      },
      "execution_count": 6,
      "outputs": []
    },
    {
      "cell_type": "markdown",
      "source": "Проверьте результат. Для этого ещё раз выведите на экран названия столбцов:",
      "metadata": {
        "id": "1dqbh00J_Zct"
      }
    },
    {
      "cell_type": "code",
      "source": "df.columns # проверка результатов - перечень названий столбцов",
      "metadata": {
        "id": "d4NOAmTW_Zct"
      },
      "execution_count": 7,
      "outputs": [
        {
          "execution_count": 7,
          "output_type": "execute_result",
          "data": {
            "text/plain": [
              "Index(['user_id', 'track', 'artist', 'genre', 'city', 'time', 'day'], dtype='object')"
            ]
          },
          "metadata": {}
        }
      ]
    },
    {
      "cell_type": "markdown",
      "source": "### Пропуски значений\nСначала посчитайте, сколько в таблице пропущенных значений. Для этого достаточно двух методов `pandas`:",
      "metadata": {
        "id": "5ISfbcfY_Zct"
      }
    },
    {
      "cell_type": "code",
      "source": "df.isna().sum() # подсчёт пропусков",
      "metadata": {
        "id": "RskX29qr_Zct"
      },
      "execution_count": 8,
      "outputs": [
        {
          "execution_count": 8,
          "output_type": "execute_result",
          "data": {
            "text/plain": [
              "user_id       0\n",
              "track      1231\n",
              "artist     7203\n",
              "genre      1198\n",
              "city          0\n",
              "time          0\n",
              "day           0\n",
              "dtype: int64"
            ]
          },
          "metadata": {}
        }
      ]
    },
    {
      "cell_type": "markdown",
      "source": "Не все пропущенные значения влияют на исследование. Так в `track` и `artist` пропуски не важны для вашей работы. Достаточно заменить их явными обозначениями.\n\nНо пропуски в `genre` могут помешать сравнению музыкальных вкусов в Москве и Санкт-Петербурге. На практике было бы правильно установить причину пропусков и восстановить данные. Такой возможности нет в учебном проекте. Придётся:\n* заполнить и эти пропуски явными обозначениями,\n* оценить, насколько они повредят расчётам. ",
      "metadata": {
        "id": "qubhgnlO_Zct"
      }
    },
    {
      "cell_type": "markdown",
      "source": "Замените пропущенные значения в столбцах `track`, `artist` и `genre` на строку `'unknown'`. Для этого создайте список `columns_to_replace`, переберите его элементы циклом `for` и для каждого столбца выполните замену пропущенных значений:",
      "metadata": {
        "id": "fSv2laPA_Zct"
      }
    },
    {
      "cell_type": "code",
      "source": "columns_to_replace = ['track', 'artist', 'genre']\nfor column in columns_to_replace:\n    df[column] = df[column].fillna('unknown') # перебор названий столбцов в цикле и замена пропущенных значений на 'unknown'",
      "metadata": {
        "id": "KplB5qWs_Zct"
      },
      "execution_count": 9,
      "outputs": []
    },
    {
      "cell_type": "markdown",
      "source": "Убедитесь, что в таблице не осталось пропусков. Для этого ещё раз посчитайте пропущенные значения.",
      "metadata": {
        "id": "Ilsm-MZo_Zct"
      }
    },
    {
      "cell_type": "code",
      "source": "df.isna().sum() # подсчёт пропусков",
      "metadata": {
        "id": "Tq4nYRX4_Zct"
      },
      "execution_count": 10,
      "outputs": [
        {
          "execution_count": 10,
          "output_type": "execute_result",
          "data": {
            "text/plain": [
              "user_id    0\n",
              "track      0\n",
              "artist     0\n",
              "genre      0\n",
              "city       0\n",
              "time       0\n",
              "day        0\n",
              "dtype: int64"
            ]
          },
          "metadata": {}
        }
      ]
    },
    {
      "cell_type": "markdown",
      "source": "### Дубликаты\nПосчитайте явные дубликаты в таблице одной командой:",
      "metadata": {
        "id": "BWKRtBJ3_Zct"
      }
    },
    {
      "cell_type": "code",
      "source": "df.duplicated().sum() # подсчёт явных дубликатов",
      "metadata": {
        "id": "36eES_S0_Zct"
      },
      "execution_count": 11,
      "outputs": [
        {
          "execution_count": 11,
          "output_type": "execute_result",
          "data": {
            "text/plain": [
              "3826"
            ]
          },
          "metadata": {}
        }
      ]
    },
    {
      "cell_type": "markdown",
      "source": "Вызовите специальный метод `pandas`, чтобы удалить явные дубликаты:",
      "metadata": {
        "id": "Ot25h6XR_Zct"
      }
    },
    {
      "cell_type": "code",
      "source": "#df.drop_duplicates(inplace=True)# удаление явных дубликатов (с удалением старых индексов и формированием новых)\ndf = df.drop_duplicates().reset_index(drop=True) ",
      "metadata": {
        "id": "exFHq6tt_Zct"
      },
      "execution_count": 12,
      "outputs": []
    },
    {
      "cell_type": "code",
      "source": "df.tail(10)",
      "metadata": {},
      "execution_count": 13,
      "outputs": [
        {
          "execution_count": 13,
          "output_type": "execute_result",
          "data": {
            "text/html": [
              "<div>\n",
              "<style scoped>\n",
              "    .dataframe tbody tr th:only-of-type {\n",
              "        vertical-align: middle;\n",
              "    }\n",
              "\n",
              "    .dataframe tbody tr th {\n",
              "        vertical-align: top;\n",
              "    }\n",
              "\n",
              "    .dataframe thead th {\n",
              "        text-align: right;\n",
              "    }\n",
              "</style>\n",
              "<table border=\"1\" class=\"dataframe\">\n",
              "  <thead>\n",
              "    <tr style=\"text-align: right;\">\n",
              "      <th></th>\n",
              "      <th>user_id</th>\n",
              "      <th>track</th>\n",
              "      <th>artist</th>\n",
              "      <th>genre</th>\n",
              "      <th>city</th>\n",
              "      <th>time</th>\n",
              "      <th>day</th>\n",
              "    </tr>\n",
              "  </thead>\n",
              "  <tbody>\n",
              "    <tr>\n",
              "      <td>61243</td>\n",
              "      <td>9E65547F</td>\n",
              "      <td>Fascinating Rhythm</td>\n",
              "      <td>Mark Murphy</td>\n",
              "      <td>jazz</td>\n",
              "      <td>Moscow</td>\n",
              "      <td>20:29:09</td>\n",
              "      <td>Wednesday</td>\n",
              "    </tr>\n",
              "    <tr>\n",
              "      <td>61244</td>\n",
              "      <td>49F35D53</td>\n",
              "      <td>Ass Up</td>\n",
              "      <td>Rameez</td>\n",
              "      <td>dance</td>\n",
              "      <td>Moscow</td>\n",
              "      <td>14:08:58</td>\n",
              "      <td>Friday</td>\n",
              "    </tr>\n",
              "    <tr>\n",
              "      <td>61245</td>\n",
              "      <td>92378E24</td>\n",
              "      <td>Swing it Like You Mean it</td>\n",
              "      <td>OJOJOJ</td>\n",
              "      <td>techno</td>\n",
              "      <td>Moscow</td>\n",
              "      <td>21:12:56</td>\n",
              "      <td>Friday</td>\n",
              "    </tr>\n",
              "    <tr>\n",
              "      <td>61246</td>\n",
              "      <td>C532021D</td>\n",
              "      <td>We Can Not Be Silenced</td>\n",
              "      <td>Pänzer</td>\n",
              "      <td>extrememetal</td>\n",
              "      <td>Moscow</td>\n",
              "      <td>08:38:24</td>\n",
              "      <td>Friday</td>\n",
              "    </tr>\n",
              "    <tr>\n",
              "      <td>61247</td>\n",
              "      <td>83A474E7</td>\n",
              "      <td>I Worship Only What You Bleed</td>\n",
              "      <td>The Black Dahlia Murder</td>\n",
              "      <td>extrememetal</td>\n",
              "      <td>Moscow</td>\n",
              "      <td>21:07:12</td>\n",
              "      <td>Monday</td>\n",
              "    </tr>\n",
              "    <tr>\n",
              "      <td>61248</td>\n",
              "      <td>729CBB09</td>\n",
              "      <td>My Name</td>\n",
              "      <td>McLean</td>\n",
              "      <td>rnb</td>\n",
              "      <td>Moscow</td>\n",
              "      <td>13:32:28</td>\n",
              "      <td>Wednesday</td>\n",
              "    </tr>\n",
              "    <tr>\n",
              "      <td>61249</td>\n",
              "      <td>D08D4A55</td>\n",
              "      <td>Maybe One Day (feat. Black Spade)</td>\n",
              "      <td>Blu &amp; Exile</td>\n",
              "      <td>hip</td>\n",
              "      <td>Saint-Petersburg</td>\n",
              "      <td>10:00:00</td>\n",
              "      <td>Monday</td>\n",
              "    </tr>\n",
              "    <tr>\n",
              "      <td>61250</td>\n",
              "      <td>C5E3A0D5</td>\n",
              "      <td>Jalopiina</td>\n",
              "      <td>unknown</td>\n",
              "      <td>industrial</td>\n",
              "      <td>Moscow</td>\n",
              "      <td>20:09:26</td>\n",
              "      <td>Friday</td>\n",
              "    </tr>\n",
              "    <tr>\n",
              "      <td>61251</td>\n",
              "      <td>321D0506</td>\n",
              "      <td>Freight Train</td>\n",
              "      <td>Chas McDevitt</td>\n",
              "      <td>rock</td>\n",
              "      <td>Moscow</td>\n",
              "      <td>21:43:59</td>\n",
              "      <td>Friday</td>\n",
              "    </tr>\n",
              "    <tr>\n",
              "      <td>61252</td>\n",
              "      <td>3A64EF84</td>\n",
              "      <td>Tell Me Sweet Little Lies</td>\n",
              "      <td>Monica Lopez</td>\n",
              "      <td>country</td>\n",
              "      <td>Moscow</td>\n",
              "      <td>21:59:46</td>\n",
              "      <td>Friday</td>\n",
              "    </tr>\n",
              "  </tbody>\n",
              "</table>\n",
              "</div>"
            ],
            "text/plain": [
              "        user_id                              track                   artist  \\\n",
              "61243  9E65547F                 Fascinating Rhythm              Mark Murphy   \n",
              "61244  49F35D53                             Ass Up                   Rameez   \n",
              "61245  92378E24          Swing it Like You Mean it                   OJOJOJ   \n",
              "61246  C532021D             We Can Not Be Silenced                   Pänzer   \n",
              "61247  83A474E7      I Worship Only What You Bleed  The Black Dahlia Murder   \n",
              "61248  729CBB09                            My Name                   McLean   \n",
              "61249  D08D4A55  Maybe One Day (feat. Black Spade)              Blu & Exile   \n",
              "61250  C5E3A0D5                          Jalopiina                  unknown   \n",
              "61251  321D0506                      Freight Train            Chas McDevitt   \n",
              "61252  3A64EF84          Tell Me Sweet Little Lies             Monica Lopez   \n",
              "\n",
              "              genre              city      time        day  \n",
              "61243          jazz            Moscow  20:29:09  Wednesday  \n",
              "61244         dance            Moscow  14:08:58     Friday  \n",
              "61245        techno            Moscow  21:12:56     Friday  \n",
              "61246  extrememetal            Moscow  08:38:24     Friday  \n",
              "61247  extrememetal            Moscow  21:07:12     Monday  \n",
              "61248           rnb            Moscow  13:32:28  Wednesday  \n",
              "61249           hip  Saint-Petersburg  10:00:00     Monday  \n",
              "61250    industrial            Moscow  20:09:26     Friday  \n",
              "61251          rock            Moscow  21:43:59     Friday  \n",
              "61252       country            Moscow  21:59:46     Friday  "
            ]
          },
          "metadata": {}
        }
      ]
    },
    {
      "cell_type": "markdown",
      "source": "Ещё раз посчитайте явные дубликаты в таблице — убедитесь, что полностью от них избавились:",
      "metadata": {
        "id": "Im2YwBEG_Zct"
      }
    },
    {
      "cell_type": "code",
      "source": "df.duplicated().sum() # проверка на отсутствие дубликатов",
      "metadata": {
        "id": "-8PuNWQ0_Zct"
      },
      "execution_count": 14,
      "outputs": [
        {
          "execution_count": 14,
          "output_type": "execute_result",
          "data": {
            "text/plain": [
              "0"
            ]
          },
          "metadata": {}
        }
      ]
    },
    {
      "cell_type": "markdown",
      "source": "Теперь избавьтесь от неявных дубликатов в колонке `genre`. Например, название одного и того же жанра может быть записано немного по-разному. Такие ошибки тоже повлияют на результат исследования.",
      "metadata": {
        "id": "QlFBsxAr_Zct"
      }
    },
    {
      "cell_type": "markdown",
      "source": "Выведите на экран список уникальных названий жанров, отсортированный в алфавитном порядке. Для этого:\n* извлеките нужный столбец датафрейма, \n* примените к нему метод сортировки,\n* для отсортированного столбца вызовите метод, который вернёт уникальные значения из столбца.",
      "metadata": {
        "id": "eSjWwsOh_Zct"
      }
    },
    {
      "cell_type": "code",
      "source": "#df['genre'].unique() # Просмотр уникальных названий жанров\ndf['genre'].sort_values().unique()",
      "metadata": {
        "id": "JIUcqzZN_Zct"
      },
      "execution_count": 15,
      "outputs": [
        {
          "execution_count": 15,
          "output_type": "execute_result",
          "data": {
            "text/plain": [
              "array(['acid', 'acoustic', 'action', 'adult', 'africa', 'afrikaans',\n",
              "       'alternative', 'alternativepunk', 'ambient', 'americana',\n",
              "       'animated', 'anime', 'arabesk', 'arabic', 'arena',\n",
              "       'argentinetango', 'art', 'audiobook', 'author', 'avantgarde',\n",
              "       'axé', 'baile', 'balkan', 'beats', 'bigroom', 'black', 'bluegrass',\n",
              "       'blues', 'bollywood', 'bossa', 'brazilian', 'breakbeat', 'breaks',\n",
              "       'broadway', 'cantautori', 'cantopop', 'canzone', 'caribbean',\n",
              "       'caucasian', 'celtic', 'chamber', 'chanson', 'children', 'chill',\n",
              "       'chinese', 'choral', 'christian', 'christmas', 'classical',\n",
              "       'classicmetal', 'club', 'colombian', 'comedy', 'conjazz',\n",
              "       'contemporary', 'country', 'cuban', 'dance', 'dancehall',\n",
              "       'dancepop', 'dark', 'death', 'deep', 'deutschrock', 'deutschspr',\n",
              "       'dirty', 'disco', 'dnb', 'documentary', 'downbeat', 'downtempo',\n",
              "       'drum', 'dub', 'dubstep', 'eastern', 'easy', 'electronic',\n",
              "       'electropop', 'emo', 'entehno', 'epicmetal', 'estrada', 'ethnic',\n",
              "       'eurofolk', 'european', 'experimental', 'extrememetal', 'fado',\n",
              "       'fairytail', 'film', 'fitness', 'flamenco', 'folk', 'folklore',\n",
              "       'folkmetal', 'folkrock', 'folktronica', 'forró', 'frankreich',\n",
              "       'französisch', 'french', 'funk', 'future', 'gangsta', 'garage',\n",
              "       'german', 'ghazal', 'gitarre', 'glitch', 'gospel', 'gothic',\n",
              "       'grime', 'grunge', 'gypsy', 'handsup', \"hard'n'heavy\", 'hardcore',\n",
              "       'hardstyle', 'hardtechno', 'hip', 'hip-hop', 'hiphop',\n",
              "       'historisch', 'holiday', 'hop', 'horror', 'house', 'hymn', 'idm',\n",
              "       'independent', 'indian', 'indie', 'indipop', 'industrial',\n",
              "       'inspirational', 'instrumental', 'international', 'irish', 'jam',\n",
              "       'japanese', 'jazz', 'jewish', 'jpop', 'jungle', 'k-pop',\n",
              "       'karadeniz', 'karaoke', 'kayokyoku', 'korean', 'laiko', 'latin',\n",
              "       'latino', 'leftfield', 'local', 'lounge', 'loungeelectronic',\n",
              "       'lovers', 'malaysian', 'mandopop', 'marschmusik', 'meditative',\n",
              "       'mediterranean', 'melodic', 'metal', 'metalcore', 'mexican',\n",
              "       'middle', 'minimal', 'miscellaneous', 'modern', 'mood', 'mpb',\n",
              "       'muslim', 'native', 'neoklassik', 'neue', 'new', 'newage',\n",
              "       'newwave', 'nu', 'nujazz', 'numetal', 'oceania', 'old', 'opera',\n",
              "       'orchestral', 'other', 'piano', 'podcasts', 'pop', 'popdance',\n",
              "       'popelectronic', 'popeurodance', 'poprussian', 'post',\n",
              "       'posthardcore', 'postrock', 'power', 'progmetal', 'progressive',\n",
              "       'psychedelic', 'punjabi', 'punk', 'quebecois', 'ragga', 'ram',\n",
              "       'rancheras', 'rap', 'rave', 'reggae', 'reggaeton', 'regional',\n",
              "       'relax', 'religious', 'retro', 'rhythm', 'rnb', 'rnr', 'rock',\n",
              "       'rockabilly', 'rockalternative', 'rockindie', 'rockother',\n",
              "       'romance', 'roots', 'ruspop', 'rusrap', 'rusrock', 'russian',\n",
              "       'salsa', 'samba', 'scenic', 'schlager', 'self', 'sertanejo',\n",
              "       'shanson', 'shoegazing', 'showtunes', 'singer', 'ska', 'skarock',\n",
              "       'slow', 'smooth', 'soft', 'soul', 'soulful', 'sound', 'soundtrack',\n",
              "       'southern', 'specialty', 'speech', 'spiritual', 'sport',\n",
              "       'stonerrock', 'surf', 'swing', 'synthpop', 'synthrock',\n",
              "       'sängerportrait', 'tango', 'tanzorchester', 'taraftar', 'tatar',\n",
              "       'tech', 'techno', 'teen', 'thrash', 'top', 'traditional',\n",
              "       'tradjazz', 'trance', 'tribal', 'trip', 'triphop', 'tropical',\n",
              "       'türk', 'türkçe', 'ukrrock', 'unknown', 'urban', 'uzbek',\n",
              "       'variété', 'vi', 'videogame', 'vocal', 'western', 'world',\n",
              "       'worldbeat', 'ïîï', 'электроника'], dtype=object)"
            ]
          },
          "metadata": {}
        }
      ]
    },
    {
      "cell_type": "markdown",
      "source": "Просмотрите список и найдите неявные дубликаты названия `hiphop`. Это могут быть названия с ошибками или альтернативные названия того же жанра.\n\nВы увидите следующие неявные дубликаты:\n* *hip*,\n* *hop*,\n* *hip-hop*.\n\nЧтобы очистить от них таблицу, напишите функцию `replace_wrong_genres()` с двумя параметрами: \n* `wrong_genres` — список дубликатов,\n* `correct_genre` — строка с правильным значением.\n\nФункция должна исправить колонку `genre` в таблице `df`: заменить каждое значение из списка `wrong_genres` на значение из `correct_genre`.",
      "metadata": {
        "id": "qej-Qmuo_Zct"
      }
    },
    {
      "cell_type": "code",
      "source": "def replace_wrong_genres(wrong_genres, correct_genre): #создание функции с двумя параментрами\n    for genre in wrong_genres: # перебираем список с неправильными значениями\n        df['genre'] = df['genre'].replace(genre, correct_genre) # replace для каждого неправильного наименования",
      "metadata": {
        "id": "ErNDkmns_Zct"
      },
      "execution_count": 16,
      "outputs": []
    },
    {
      "cell_type": "markdown",
      "source": "Вызовите `replace_wrong_genres()` и передайте ей такие аргументы, чтобы она устранила неявные дубликаты: вместо `hip`, `hop` и `hip-hop` в таблице должно быть значение `hiphop`:",
      "metadata": {
        "id": "aDoBJxbA_Zct"
      }
    },
    {
      "cell_type": "code",
      "source": "replace_wrong_genres(['hip', 'hop', 'hip-hop'] , 'hiphop') # Устранение неявных дубликатов",
      "metadata": {
        "id": "YN5i2hpmSo09"
      },
      "execution_count": 17,
      "outputs": []
    },
    {
      "cell_type": "markdown",
      "source": "Проверьте, что заменили неправильные названия:\n\n*   hip\n*   hop\n*   hip-hop\n\nВыведите отсортированный список уникальных значений столбца `genre`:",
      "metadata": {
        "id": "zQKF16_RG15m"
      }
    },
    {
      "cell_type": "code",
      "source": "df['genre'].sort_values().unique() # Проверка на неявные дубликаты",
      "metadata": {
        "id": "wvixALnFG15m"
      },
      "execution_count": 18,
      "outputs": [
        {
          "execution_count": 18,
          "output_type": "execute_result",
          "data": {
            "text/plain": [
              "array(['acid', 'acoustic', 'action', 'adult', 'africa', 'afrikaans',\n",
              "       'alternative', 'alternativepunk', 'ambient', 'americana',\n",
              "       'animated', 'anime', 'arabesk', 'arabic', 'arena',\n",
              "       'argentinetango', 'art', 'audiobook', 'author', 'avantgarde',\n",
              "       'axé', 'baile', 'balkan', 'beats', 'bigroom', 'black', 'bluegrass',\n",
              "       'blues', 'bollywood', 'bossa', 'brazilian', 'breakbeat', 'breaks',\n",
              "       'broadway', 'cantautori', 'cantopop', 'canzone', 'caribbean',\n",
              "       'caucasian', 'celtic', 'chamber', 'chanson', 'children', 'chill',\n",
              "       'chinese', 'choral', 'christian', 'christmas', 'classical',\n",
              "       'classicmetal', 'club', 'colombian', 'comedy', 'conjazz',\n",
              "       'contemporary', 'country', 'cuban', 'dance', 'dancehall',\n",
              "       'dancepop', 'dark', 'death', 'deep', 'deutschrock', 'deutschspr',\n",
              "       'dirty', 'disco', 'dnb', 'documentary', 'downbeat', 'downtempo',\n",
              "       'drum', 'dub', 'dubstep', 'eastern', 'easy', 'electronic',\n",
              "       'electropop', 'emo', 'entehno', 'epicmetal', 'estrada', 'ethnic',\n",
              "       'eurofolk', 'european', 'experimental', 'extrememetal', 'fado',\n",
              "       'fairytail', 'film', 'fitness', 'flamenco', 'folk', 'folklore',\n",
              "       'folkmetal', 'folkrock', 'folktronica', 'forró', 'frankreich',\n",
              "       'französisch', 'french', 'funk', 'future', 'gangsta', 'garage',\n",
              "       'german', 'ghazal', 'gitarre', 'glitch', 'gospel', 'gothic',\n",
              "       'grime', 'grunge', 'gypsy', 'handsup', \"hard'n'heavy\", 'hardcore',\n",
              "       'hardstyle', 'hardtechno', 'hiphop', 'historisch', 'holiday',\n",
              "       'horror', 'house', 'hymn', 'idm', 'independent', 'indian', 'indie',\n",
              "       'indipop', 'industrial', 'inspirational', 'instrumental',\n",
              "       'international', 'irish', 'jam', 'japanese', 'jazz', 'jewish',\n",
              "       'jpop', 'jungle', 'k-pop', 'karadeniz', 'karaoke', 'kayokyoku',\n",
              "       'korean', 'laiko', 'latin', 'latino', 'leftfield', 'local',\n",
              "       'lounge', 'loungeelectronic', 'lovers', 'malaysian', 'mandopop',\n",
              "       'marschmusik', 'meditative', 'mediterranean', 'melodic', 'metal',\n",
              "       'metalcore', 'mexican', 'middle', 'minimal', 'miscellaneous',\n",
              "       'modern', 'mood', 'mpb', 'muslim', 'native', 'neoklassik', 'neue',\n",
              "       'new', 'newage', 'newwave', 'nu', 'nujazz', 'numetal', 'oceania',\n",
              "       'old', 'opera', 'orchestral', 'other', 'piano', 'podcasts', 'pop',\n",
              "       'popdance', 'popelectronic', 'popeurodance', 'poprussian', 'post',\n",
              "       'posthardcore', 'postrock', 'power', 'progmetal', 'progressive',\n",
              "       'psychedelic', 'punjabi', 'punk', 'quebecois', 'ragga', 'ram',\n",
              "       'rancheras', 'rap', 'rave', 'reggae', 'reggaeton', 'regional',\n",
              "       'relax', 'religious', 'retro', 'rhythm', 'rnb', 'rnr', 'rock',\n",
              "       'rockabilly', 'rockalternative', 'rockindie', 'rockother',\n",
              "       'romance', 'roots', 'ruspop', 'rusrap', 'rusrock', 'russian',\n",
              "       'salsa', 'samba', 'scenic', 'schlager', 'self', 'sertanejo',\n",
              "       'shanson', 'shoegazing', 'showtunes', 'singer', 'ska', 'skarock',\n",
              "       'slow', 'smooth', 'soft', 'soul', 'soulful', 'sound', 'soundtrack',\n",
              "       'southern', 'specialty', 'speech', 'spiritual', 'sport',\n",
              "       'stonerrock', 'surf', 'swing', 'synthpop', 'synthrock',\n",
              "       'sängerportrait', 'tango', 'tanzorchester', 'taraftar', 'tatar',\n",
              "       'tech', 'techno', 'teen', 'thrash', 'top', 'traditional',\n",
              "       'tradjazz', 'trance', 'tribal', 'trip', 'triphop', 'tropical',\n",
              "       'türk', 'türkçe', 'ukrrock', 'unknown', 'urban', 'uzbek',\n",
              "       'variété', 'vi', 'videogame', 'vocal', 'western', 'world',\n",
              "       'worldbeat', 'ïîï', 'электроника'], dtype=object)"
            ]
          },
          "metadata": {}
        }
      ]
    },
    {
      "cell_type": "markdown",
      "source": "**Выводы**\n\nПредобработка обнаружила три проблемы в данных:\n\n- нарушения в стиле заголовков,\n- пропущенные значения,\n- дубликаты — явные и неявные.\n\nВы исправили заголовки, чтобы упростить работу с таблицей. Без дубликатов исследование станет более точным.\n\nПропущенные значения вы заменили на `'unknown'`. Ещё предстоит увидеть, не повредят ли исследованию пропуски в колонке `genre`.\n\nТеперь можно перейти к проверке гипотез. ",
      "metadata": {
        "id": "jz6a9-7HQUDd"
      }
    },
    {
      "cell_type": "markdown",
      "source": "## Проверка гипотез",
      "metadata": {
        "id": "WttZHXH0SqKk"
      }
    },
    {
      "cell_type": "markdown",
      "source": "### Сравнение поведения пользователей двух столиц",
      "metadata": {
        "id": "Im936VVi_Zcu"
      }
    },
    {
      "cell_type": "markdown",
      "source": "Первая гипотеза утверждает, что пользователи по-разному слушают музыку в Москве и Санкт-Петербурге. Проверьте это предположение по данным о трёх днях недели — понедельнике, среде и пятнице. Для этого:\n\n* Разделите пользователей Москвы и Санкт-Петербурга\n* Сравните, сколько треков послушала каждая группа пользователей в понедельник, среду и пятницу.\n",
      "metadata": {
        "id": "nwt_MuaL_Zcu"
      }
    },
    {
      "cell_type": "markdown",
      "source": "Для тренировки сначала выполните каждый из расчётов по отдельности. \n\nОцените активность пользователей в каждом городе. Сгруппируйте данные по городу и посчитайте прослушивания в каждой группе.\n\n",
      "metadata": {
        "id": "8Dw_YMmT_Zcu"
      }
    },
    {
      "cell_type": "code",
      "source": "df.groupby('city')['track'].count() # Подсчёт прослушиваний в каждом городе",
      "metadata": {
        "id": "0_Qs96oh_Zcu"
      },
      "execution_count": 19,
      "outputs": [
        {
          "execution_count": 19,
          "output_type": "execute_result",
          "data": {
            "text/plain": [
              "city\n",
              "Moscow              42741\n",
              "Saint-Petersburg    18512\n",
              "Name: track, dtype: int64"
            ]
          },
          "metadata": {}
        }
      ]
    },
    {
      "cell_type": "markdown",
      "source": "В Москве прослушиваний больше, чем в Петербурге. Из этого не следует, что московские пользователи чаще слушают музыку. Просто самих пользователей в Москве больше.\n\nТеперь сгруппируйте данные по дню недели и подсчитайте прослушивания в понедельник, среду и пятницу. Учтите, что в данных есть информация только о прослушиваниях только за эти дни.\n",
      "metadata": {
        "id": "dzli3w8o_Zcu"
      }
    },
    {
      "cell_type": "code",
      "source": "df.groupby('day')['track'].count() # Подсчёт прослушиваний в каждый из трёх дней",
      "metadata": {
        "id": "uZMKjiJz_Zcu"
      },
      "execution_count": 20,
      "outputs": [
        {
          "execution_count": 20,
          "output_type": "execute_result",
          "data": {
            "text/plain": [
              "day\n",
              "Friday       21840\n",
              "Monday       21354\n",
              "Wednesday    18059\n",
              "Name: track, dtype: int64"
            ]
          },
          "metadata": {}
        }
      ]
    },
    {
      "cell_type": "markdown",
      "source": "В среднем пользователи из двух городов менее активны по средам. Но картина может измениться, если рассмотреть каждый город в отдельности.",
      "metadata": {
        "id": "cC2tNrlL_Zcu"
      }
    },
    {
      "cell_type": "markdown",
      "source": "Вы видели, как работает группировка по городу и по дням недели. Теперь напишите функцию, которая объединит два эти расчёта.\n\nСоздайте функцию `number_tracks()`, которая посчитает прослушивания для заданного дня и города. Ей понадобятся два параметра:\n* день недели,\n* название города.\n\nВ функции сохраните в переменную строки исходной таблицы, у которых значение:\n  * в колонке `day` равно параметру `day`,\n  * в колонке `city` равно параметру `city`.\n\nДля этого примените последовательную фильтрацию с логической индексацией.\n\nЗатем посчитайте значения в столбце `user_id` получившейся таблицы. Результат сохраните в новую переменную. Верните эту переменную из функции.",
      "metadata": {
        "id": "POzs8bGa_Zcu"
      }
    },
    {
      "cell_type": "code",
      "source": "# <создание функции number_tracks()>\ndef number_tracks(day, city):  # Объявляется функция с двумя параметрами: day, city.\n    track_list = df[(df['day']==day) & (df['city']==city)] # В переменной track_list сохраняются те строки таблицы df, для которых \n# значение в столбце 'day' равно параметру day и одновременно значение\n# в столбце 'city' равно параметру city (используйте последовательную фильтрацию\n# с помощью логической индексации).\n    track_list_count = track_list['user_id'].count() # В переменной track_list_count сохраняется число значений столбца 'user_id',\n# рассчитанное методом count() для таблицы track_list.\n    return track_list_count # Функция возвращает число - значение track_list_count.\n\n# Функция для подсчёта прослушиваний для конкретного города и дня.\n# С помощью последовательной фильтрации с логической индексацией она \n# сначала получит из исходной таблицы строки с нужным днём,\n# затем из результата отфильтрует строки с нужным городом,\n# методом count() посчитает количество значений в колонке user_id. \n# Это количество функция вернёт в качестве результата",
      "metadata": {
        "id": "Nz3GdQB1_Zcu"
      },
      "execution_count": 21,
      "outputs": []
    },
    {
      "cell_type": "markdown",
      "source": "Вызовите `number_tracks()` шесть раз, меняя значение параметров — так, чтобы получить данные для каждого города в каждый из трёх дней.",
      "metadata": {
        "id": "ytf7xFrFJQ2r"
      }
    },
    {
      "cell_type": "code",
      "source": "number_tracks('Monday', 'Moscow') # количество прослушиваний в Москве по понедельникам",
      "metadata": {
        "id": "rJcRATNQ_Zcu"
      },
      "execution_count": 22,
      "outputs": [
        {
          "execution_count": 22,
          "output_type": "execute_result",
          "data": {
            "text/plain": [
              "15740"
            ]
          },
          "metadata": {}
        }
      ]
    },
    {
      "cell_type": "code",
      "source": "number_tracks('Monday', 'Saint-Petersburg') # количество прослушиваний в Санкт-Петербурге по понедельникам",
      "metadata": {
        "id": "hq_ncZ5T_Zcu"
      },
      "execution_count": 23,
      "outputs": [
        {
          "execution_count": 23,
          "output_type": "execute_result",
          "data": {
            "text/plain": [
              "5614"
            ]
          },
          "metadata": {}
        }
      ]
    },
    {
      "cell_type": "code",
      "source": "number_tracks('Wednesday', 'Moscow') # количество прослушиваний в Москве по средам",
      "metadata": {
        "id": "_NTy2VPU_Zcu"
      },
      "execution_count": 24,
      "outputs": [
        {
          "execution_count": 24,
          "output_type": "execute_result",
          "data": {
            "text/plain": [
              "11056"
            ]
          },
          "metadata": {}
        }
      ]
    },
    {
      "cell_type": "code",
      "source": "number_tracks('Wednesday', 'Saint-Petersburg') # количество прослушиваний в Санкт-Петербурге по средам",
      "metadata": {
        "id": "j2y3TAwo_Zcu"
      },
      "execution_count": 25,
      "outputs": [
        {
          "execution_count": 25,
          "output_type": "execute_result",
          "data": {
            "text/plain": [
              "7003"
            ]
          },
          "metadata": {}
        }
      ]
    },
    {
      "cell_type": "code",
      "source": "number_tracks('Friday', 'Moscow') # количество прослушиваний в Москве по пятницам",
      "metadata": {
        "id": "vYDw5u_K_Zcu"
      },
      "execution_count": 26,
      "outputs": [
        {
          "execution_count": 26,
          "output_type": "execute_result",
          "data": {
            "text/plain": [
              "15945"
            ]
          },
          "metadata": {}
        }
      ]
    },
    {
      "cell_type": "code",
      "source": "number_tracks('Friday', 'Saint-Petersburg') # количество прослушиваний в Санкт-Петербурге по пятницам",
      "metadata": {
        "id": "8_yzFtW3_Zcu"
      },
      "execution_count": 27,
      "outputs": [
        {
          "execution_count": 27,
          "output_type": "execute_result",
          "data": {
            "text/plain": [
              "5895"
            ]
          },
          "metadata": {}
        }
      ]
    },
    {
      "cell_type": "markdown",
      "source": "Создайте c помощью конструктора `pd.DataFrame` таблицу, где\n* названия колонок — `['city', 'monday', 'wednesday', 'friday']`;\n* данные — результаты, которые вы получили с помощью `number_tracks`.",
      "metadata": {
        "id": "7QXffbO-_Zcu"
      }
    },
    {
      "cell_type": "code",
      "source": "data=[['Moscow',15740,11056,15945],\n      ['Saint-Petersburg',5614,7003,5895]]\ntable = pd.DataFrame(data=data, columns=['city', 'monday', 'wednesday', 'friday'])\ndisplay(table)",
      "metadata": {
        "id": "APAcLpOr_Zcu"
      },
      "execution_count": 28,
      "outputs": [
        {
          "output_type": "display_data",
          "data": {
            "text/html": [
              "<div>\n",
              "<style scoped>\n",
              "    .dataframe tbody tr th:only-of-type {\n",
              "        vertical-align: middle;\n",
              "    }\n",
              "\n",
              "    .dataframe tbody tr th {\n",
              "        vertical-align: top;\n",
              "    }\n",
              "\n",
              "    .dataframe thead th {\n",
              "        text-align: right;\n",
              "    }\n",
              "</style>\n",
              "<table border=\"1\" class=\"dataframe\">\n",
              "  <thead>\n",
              "    <tr style=\"text-align: right;\">\n",
              "      <th></th>\n",
              "      <th>city</th>\n",
              "      <th>monday</th>\n",
              "      <th>wednesday</th>\n",
              "      <th>friday</th>\n",
              "    </tr>\n",
              "  </thead>\n",
              "  <tbody>\n",
              "    <tr>\n",
              "      <td>0</td>\n",
              "      <td>Moscow</td>\n",
              "      <td>15740</td>\n",
              "      <td>11056</td>\n",
              "      <td>15945</td>\n",
              "    </tr>\n",
              "    <tr>\n",
              "      <td>1</td>\n",
              "      <td>Saint-Petersburg</td>\n",
              "      <td>5614</td>\n",
              "      <td>7003</td>\n",
              "      <td>5895</td>\n",
              "    </tr>\n",
              "  </tbody>\n",
              "</table>\n",
              "</div>"
            ],
            "text/plain": [
              "               city  monday  wednesday  friday\n",
              "0            Moscow   15740      11056   15945\n",
              "1  Saint-Petersburg    5614       7003    5895"
            ]
          },
          "metadata": {}
        }
      ]
    },
    {
      "cell_type": "markdown",
      "source": "**Выводы**\n\nДанные показывают разницу поведения пользователей:\n\n- В Москве пик прослушиваний приходится на понедельник и пятницу, а в среду заметен спад.\n- В Петербурге, наоборот, больше слушают музыку по средам. Активность в понедельник и пятницу здесь почти в равной мере уступает среде.\n\nЗначит, данные говорят в пользу первой гипотезы.",
      "metadata": {
        "id": "-EgPIHYu_Zcu"
      }
    },
    {
      "cell_type": "markdown",
      "source": "### Музыка в начале и в конце недели",
      "metadata": {
        "id": "atZAxtq4_Zcu"
      }
    },
    {
      "cell_type": "markdown",
      "source": "Согласно второй гипотезе, утром в понедельник в Москве преобладают одни жанры, а в Петербурге — другие. Так же и вечером пятницы преобладают разные жанры — в зависимости от города.",
      "metadata": {
        "id": "eXrQqXFH_Zcu"
      }
    },
    {
      "cell_type": "markdown",
      "source": "Сохраните таблицы с данными в две переменные:\n* по Москве — в `moscow_general`;\n* по Санкт-Петербургу — в `spb_general`.",
      "metadata": {
        "id": "S8UcW6Hw_Zcu"
      }
    },
    {
      "cell_type": "code",
      "source": "moscow_general = df[df['city'] == 'Moscow']\nmoscow_general.head() # получение таблицы moscow_general из тех строк таблицы df, \n# для которых значение в столбце 'city' равно 'Moscow'\n",
      "metadata": {
        "id": "qeaFfM_P_Zcu"
      },
      "execution_count": 29,
      "outputs": [
        {
          "execution_count": 29,
          "output_type": "execute_result",
          "data": {
            "text/html": [
              "<div>\n",
              "<style scoped>\n",
              "    .dataframe tbody tr th:only-of-type {\n",
              "        vertical-align: middle;\n",
              "    }\n",
              "\n",
              "    .dataframe tbody tr th {\n",
              "        vertical-align: top;\n",
              "    }\n",
              "\n",
              "    .dataframe thead th {\n",
              "        text-align: right;\n",
              "    }\n",
              "</style>\n",
              "<table border=\"1\" class=\"dataframe\">\n",
              "  <thead>\n",
              "    <tr style=\"text-align: right;\">\n",
              "      <th></th>\n",
              "      <th>user_id</th>\n",
              "      <th>track</th>\n",
              "      <th>artist</th>\n",
              "      <th>genre</th>\n",
              "      <th>city</th>\n",
              "      <th>time</th>\n",
              "      <th>day</th>\n",
              "    </tr>\n",
              "  </thead>\n",
              "  <tbody>\n",
              "    <tr>\n",
              "      <td>1</td>\n",
              "      <td>55204538</td>\n",
              "      <td>Delayed Because of Accident</td>\n",
              "      <td>Andreas Rönnberg</td>\n",
              "      <td>rock</td>\n",
              "      <td>Moscow</td>\n",
              "      <td>14:07:09</td>\n",
              "      <td>Friday</td>\n",
              "    </tr>\n",
              "    <tr>\n",
              "      <td>4</td>\n",
              "      <td>E2DC1FAE</td>\n",
              "      <td>Soul People</td>\n",
              "      <td>Space Echo</td>\n",
              "      <td>dance</td>\n",
              "      <td>Moscow</td>\n",
              "      <td>08:34:34</td>\n",
              "      <td>Monday</td>\n",
              "    </tr>\n",
              "    <tr>\n",
              "      <td>6</td>\n",
              "      <td>4CB90AA5</td>\n",
              "      <td>True</td>\n",
              "      <td>Roman Messer</td>\n",
              "      <td>dance</td>\n",
              "      <td>Moscow</td>\n",
              "      <td>13:00:07</td>\n",
              "      <td>Wednesday</td>\n",
              "    </tr>\n",
              "    <tr>\n",
              "      <td>7</td>\n",
              "      <td>F03E1C1F</td>\n",
              "      <td>Feeling This Way</td>\n",
              "      <td>Polina Griffith</td>\n",
              "      <td>dance</td>\n",
              "      <td>Moscow</td>\n",
              "      <td>20:47:49</td>\n",
              "      <td>Wednesday</td>\n",
              "    </tr>\n",
              "    <tr>\n",
              "      <td>8</td>\n",
              "      <td>8FA1D3BE</td>\n",
              "      <td>И вновь продолжается бой</td>\n",
              "      <td>unknown</td>\n",
              "      <td>ruspop</td>\n",
              "      <td>Moscow</td>\n",
              "      <td>09:17:40</td>\n",
              "      <td>Friday</td>\n",
              "    </tr>\n",
              "  </tbody>\n",
              "</table>\n",
              "</div>"
            ],
            "text/plain": [
              "    user_id                        track            artist   genre    city  \\\n",
              "1  55204538  Delayed Because of Accident  Andreas Rönnberg    rock  Moscow   \n",
              "4  E2DC1FAE                  Soul People        Space Echo   dance  Moscow   \n",
              "6  4CB90AA5                         True      Roman Messer   dance  Moscow   \n",
              "7  F03E1C1F             Feeling This Way   Polina Griffith   dance  Moscow   \n",
              "8  8FA1D3BE     И вновь продолжается бой           unknown  ruspop  Moscow   \n",
              "\n",
              "       time        day  \n",
              "1  14:07:09     Friday  \n",
              "4  08:34:34     Monday  \n",
              "6  13:00:07  Wednesday  \n",
              "7  20:47:49  Wednesday  \n",
              "8  09:17:40     Friday  "
            ]
          },
          "metadata": {}
        }
      ]
    },
    {
      "cell_type": "code",
      "source": "spb_general = df[df['city'] == 'Saint-Petersburg']\nspb_general.head() # получение таблицы spb_general из тех строк таблицы df,\n# для которых значение в столбце 'city' равно 'Saint-Petersburg'\n",
      "metadata": {
        "id": "ORaVRKto_Zcu"
      },
      "execution_count": 30,
      "outputs": [
        {
          "execution_count": 30,
          "output_type": "execute_result",
          "data": {
            "text/html": [
              "<div>\n",
              "<style scoped>\n",
              "    .dataframe tbody tr th:only-of-type {\n",
              "        vertical-align: middle;\n",
              "    }\n",
              "\n",
              "    .dataframe tbody tr th {\n",
              "        vertical-align: top;\n",
              "    }\n",
              "\n",
              "    .dataframe thead th {\n",
              "        text-align: right;\n",
              "    }\n",
              "</style>\n",
              "<table border=\"1\" class=\"dataframe\">\n",
              "  <thead>\n",
              "    <tr style=\"text-align: right;\">\n",
              "      <th></th>\n",
              "      <th>user_id</th>\n",
              "      <th>track</th>\n",
              "      <th>artist</th>\n",
              "      <th>genre</th>\n",
              "      <th>city</th>\n",
              "      <th>time</th>\n",
              "      <th>day</th>\n",
              "    </tr>\n",
              "  </thead>\n",
              "  <tbody>\n",
              "    <tr>\n",
              "      <td>0</td>\n",
              "      <td>FFB692EC</td>\n",
              "      <td>Kamigata To Boots</td>\n",
              "      <td>The Mass Missile</td>\n",
              "      <td>rock</td>\n",
              "      <td>Saint-Petersburg</td>\n",
              "      <td>20:28:33</td>\n",
              "      <td>Wednesday</td>\n",
              "    </tr>\n",
              "    <tr>\n",
              "      <td>2</td>\n",
              "      <td>20EC38</td>\n",
              "      <td>Funiculì funiculà</td>\n",
              "      <td>Mario Lanza</td>\n",
              "      <td>pop</td>\n",
              "      <td>Saint-Petersburg</td>\n",
              "      <td>20:58:07</td>\n",
              "      <td>Wednesday</td>\n",
              "    </tr>\n",
              "    <tr>\n",
              "      <td>3</td>\n",
              "      <td>A3DD03C9</td>\n",
              "      <td>Dragons in the Sunset</td>\n",
              "      <td>Fire + Ice</td>\n",
              "      <td>folk</td>\n",
              "      <td>Saint-Petersburg</td>\n",
              "      <td>08:37:09</td>\n",
              "      <td>Monday</td>\n",
              "    </tr>\n",
              "    <tr>\n",
              "      <td>5</td>\n",
              "      <td>842029A1</td>\n",
              "      <td>Преданная</td>\n",
              "      <td>IMPERVTOR</td>\n",
              "      <td>rusrap</td>\n",
              "      <td>Saint-Petersburg</td>\n",
              "      <td>13:09:41</td>\n",
              "      <td>Friday</td>\n",
              "    </tr>\n",
              "    <tr>\n",
              "      <td>9</td>\n",
              "      <td>E772D5C0</td>\n",
              "      <td>Pessimist</td>\n",
              "      <td>unknown</td>\n",
              "      <td>dance</td>\n",
              "      <td>Saint-Petersburg</td>\n",
              "      <td>21:20:49</td>\n",
              "      <td>Wednesday</td>\n",
              "    </tr>\n",
              "  </tbody>\n",
              "</table>\n",
              "</div>"
            ],
            "text/plain": [
              "    user_id                  track            artist   genre  \\\n",
              "0  FFB692EC      Kamigata To Boots  The Mass Missile    rock   \n",
              "2    20EC38      Funiculì funiculà       Mario Lanza     pop   \n",
              "3  A3DD03C9  Dragons in the Sunset        Fire + Ice    folk   \n",
              "5  842029A1              Преданная         IMPERVTOR  rusrap   \n",
              "9  E772D5C0              Pessimist           unknown   dance   \n",
              "\n",
              "               city      time        day  \n",
              "0  Saint-Petersburg  20:28:33  Wednesday  \n",
              "2  Saint-Petersburg  20:58:07  Wednesday  \n",
              "3  Saint-Petersburg  08:37:09     Monday  \n",
              "5  Saint-Petersburg  13:09:41     Friday  \n",
              "9  Saint-Petersburg  21:20:49  Wednesday  "
            ]
          },
          "metadata": {}
        }
      ]
    },
    {
      "cell_type": "markdown",
      "source": "Создайте функцию `genre_weekday()` с четырьмя параметрами:\n* таблица (датафрейм) с данными,\n* день недели,\n* начальная временная метка в формате 'hh:mm', \n* последняя временная метка в формате 'hh:mm'.\n\nФункция должна вернуть информацию о топ-10 жанров тех треков, которые прослушивали в указанный день, в промежутке между двумя отметками времени.",
      "metadata": {
        "id": "MEJV-CX2_Zcu"
      }
    },
    {
      "cell_type": "code",
      "source": "def genre_weekday(table, day, time1, time2):  # Объявление функции genre_weekday() с параметрами table, day, time1, time2,\n# которая возвращает информацию о самых популярных жанрах в указанный день в\n# заданное время:\n   # 1) в переменную genre_df сохраняются те строки переданного датафрейма table, для\n#    которых одновременно:\n    genre_df = table[table['day'] == day] #    - значение в столбце day равно значению аргумента day\n    genre_df = genre_df[genre_df['time'] > time1]#     - значение в столбце time больше значения аргумента time1\n    genre_df = genre_df[genre_df['time'] < time2]#    - значение в столбце time меньше значения аргумента time2\n#    Используйте последовательную фильтрацию с помощью логической индексации.\n    genre_df_count = genre_df.groupby('genre')['genre'].count() # 2) сгруппировать датафрейм genre_df по столбцу genre, взять один из его\n#    столбцов и посчитать методом count() количество записей для каждого из\n#    присутствующих жанров, получившийся Series записать в переменную\n#    genre_df_count\n    genre_df_sorted = genre_df_count.sort_values(ascending=False) # 3) отсортировать genre_df_count по убыванию встречаемости и сохранить\n#    в переменную genre_df_sorted\n    return genre_df_sorted.head(10)# 4) вернуть Series из 10 первых значений genre_df_sorted, это будут топ-10\n#    популярных жанров (в указанный день, в заданное время)",
      "metadata": {
        "id": "laJT9BYl_Zcu"
      },
      "execution_count": 31,
      "outputs": []
    },
    {
      "cell_type": "markdown",
      "source": "Cравните результаты функции `genre_weekday()` для Москвы и Санкт-Петербурга в понедельник утром (с 7:00 до 11:00) и в пятницу вечером (с 17:00 до 23:00):",
      "metadata": {
        "id": "la2s2_PF_Zcu"
      }
    },
    {
      "cell_type": "code",
      "source": "genre_weekday(moscow_general, 'Monday', '07:00', '11:00') # вызов функции для утра понедельника в Москве (вместо df — таблица moscow_general)\n# объекты, хранящие время, являются строками и сравниваются как строки\n# пример вызова: genre_weekday(moscow_general, 'Monday', '07:00', '11:00')",
      "metadata": {
        "id": "yz7itPUQ_Zcu"
      },
      "execution_count": 32,
      "outputs": [
        {
          "execution_count": 32,
          "output_type": "execute_result",
          "data": {
            "text/plain": [
              "genre\n",
              "pop            781\n",
              "dance          549\n",
              "electronic     480\n",
              "rock           474\n",
              "hiphop         286\n",
              "ruspop         186\n",
              "world          181\n",
              "rusrap         175\n",
              "alternative    164\n",
              "unknown        161\n",
              "Name: genre, dtype: int64"
            ]
          },
          "metadata": {}
        }
      ]
    },
    {
      "cell_type": "code",
      "source": "genre_weekday(spb_general, 'Monday', '07:00', '11:00') # вызов функции для утра понедельника в Петербурге (вместо df — таблица spb_general)",
      "metadata": {
        "id": "kwUcHPdy_Zcu"
      },
      "execution_count": 33,
      "outputs": [
        {
          "execution_count": 33,
          "output_type": "execute_result",
          "data": {
            "text/plain": [
              "genre\n",
              "pop            218\n",
              "dance          182\n",
              "rock           162\n",
              "electronic     147\n",
              "hiphop          80\n",
              "ruspop          64\n",
              "alternative     58\n",
              "rusrap          55\n",
              "jazz            44\n",
              "classical       40\n",
              "Name: genre, dtype: int64"
            ]
          },
          "metadata": {}
        }
      ]
    },
    {
      "cell_type": "code",
      "source": "genre_weekday(moscow_general, 'Friday', '17:00', '23:00') # вызов функции для вечера пятницы в Москве",
      "metadata": {
        "id": "EzXVRE1o_Zcu"
      },
      "execution_count": 34,
      "outputs": [
        {
          "execution_count": 34,
          "output_type": "execute_result",
          "data": {
            "text/plain": [
              "genre\n",
              "pop            713\n",
              "rock           517\n",
              "dance          495\n",
              "electronic     482\n",
              "hiphop         273\n",
              "world          208\n",
              "ruspop         170\n",
              "alternative    163\n",
              "classical      163\n",
              "rusrap         142\n",
              "Name: genre, dtype: int64"
            ]
          },
          "metadata": {}
        }
      ]
    },
    {
      "cell_type": "code",
      "source": "genre_weekday(spb_general, 'Friday', '17:00', '23:00') # вызов функции для вечера пятницы в Петербурге",
      "metadata": {
        "id": "JZaEKu5v_Zcu"
      },
      "execution_count": 35,
      "outputs": [
        {
          "execution_count": 35,
          "output_type": "execute_result",
          "data": {
            "text/plain": [
              "genre\n",
              "pop            256\n",
              "rock           216\n",
              "electronic     216\n",
              "dance          210\n",
              "hiphop          97\n",
              "alternative     63\n",
              "jazz            61\n",
              "classical       60\n",
              "rusrap          59\n",
              "world           54\n",
              "Name: genre, dtype: int64"
            ]
          },
          "metadata": {}
        }
      ]
    },
    {
      "cell_type": "markdown",
      "source": "**Выводы**\n\nЕсли сравнить топ-10 жанров в понедельник утром, можно сделать такие выводы:\n\n1. В Москве и Петербурге слушают похожую музыку. Единственное отличие — в московский рейтинг вошёл жанр “world”, а в петербургский — джаз и классика.\n\n2. В Москве пропущенных значений оказалось так много, что значение `'unknown'` заняло десятое место среди самых популярных жанров. Значит, пропущенные значения занимают существенную долю в данных и угрожают достоверности исследования.\n\nВечер пятницы не меняет эту картину. Некоторые жанры поднимаются немного выше, другие спускаются, но в целом топ-10 остаётся тем же самым.\n\nТаким образом, вторая гипотеза подтвердилась лишь частично:\n* Пользователи слушают похожую музыку в начале недели и в конце.\n* Разница между Москвой и Петербургом не слишком выражена. В Москве чаще слушают русскую популярную музыку, в Петербурге — джаз.\n\nОднако пропуски в данных ставят под сомнение этот результат. В Москве их так много, что рейтинг топ-10 мог бы выглядеть иначе, если бы не утерянные  данные о жанрах.",
      "metadata": {
        "id": "wrCe4MNX_Zcu"
      }
    },
    {
      "cell_type": "markdown",
      "source": "### Жанровые предпочтения в Москве и Петербурге\n\nГипотеза: Петербург — столица рэпа, музыку этого жанра там слушают чаще, чем в Москве.  А Москва — город контрастов, в котором, тем не менее, преобладает поп-музыка.",
      "metadata": {
        "id": "JolODAqr_Zcu"
      }
    },
    {
      "cell_type": "markdown",
      "source": "Сгруппируйте таблицу `moscow_general` по жанру и посчитайте прослушивания треков каждого жанра методом `count()`. Затем отсортируйте результат в порядке убывания и сохраните его в таблице `moscow_genres`.",
      "metadata": {
        "id": "DlegSvaT_Zcu"
      }
    },
    {
      "cell_type": "code",
      "source": "moscow_genres=moscow_general.groupby('genre')['genre'].count().sort_values(ascending=False)\n# одной строкой: группировка таблицы moscow_general по столбцу 'genre', \n# подсчёт числа значений 'genre' в этой группировке методом count(), \n# сортировка получившегося Series в порядке убывания и сохранение в moscow_genres",
      "metadata": {
        "id": "r19lIPke_Zcu"
      },
      "execution_count": 36,
      "outputs": []
    },
    {
      "cell_type": "markdown",
      "source": "Выведите на экран первые десять строк `moscow_genres`:",
      "metadata": {
        "id": "6kMuomxTiIr8"
      }
    },
    {
      "cell_type": "code",
      "source": "moscow_genres.head(10) # просмотр первых 10 строк moscow_genres",
      "metadata": {
        "id": "WhCSooF8_Zcv"
      },
      "execution_count": 37,
      "outputs": [
        {
          "execution_count": 37,
          "output_type": "execute_result",
          "data": {
            "text/plain": [
              "genre\n",
              "pop            5892\n",
              "dance          4435\n",
              "rock           3965\n",
              "electronic     3786\n",
              "hiphop         2096\n",
              "classical      1616\n",
              "world          1432\n",
              "alternative    1379\n",
              "ruspop         1372\n",
              "rusrap         1161\n",
              "Name: genre, dtype: int64"
            ]
          },
          "metadata": {}
        }
      ]
    },
    {
      "cell_type": "markdown",
      "source": "Теперь повторите то же и для Петербурга.\n\nСгруппируйте таблицу `spb_general` по жанру. Посчитайте прослушивания треков каждого жанра. Результат отсортируйте в порядке убывания и сохраните в таблице `spb_genres`:\n",
      "metadata": {
        "id": "cnPG2vnN_Zcv"
      }
    },
    {
      "cell_type": "code",
      "source": "spb_genres=spb_general.groupby('genre')['genre'].count().sort_values(ascending=False)\n# одной строкой: группировка таблицы spb_general по столбцу 'genre', \n# подсчёт числа значений 'genre' в этой группировке методом count(), \n# сортировка получившегося Series в порядке убывания и сохранение в spb_genres",
      "metadata": {
        "id": "gluLIpE7_Zcv"
      },
      "execution_count": 38,
      "outputs": []
    },
    {
      "cell_type": "markdown",
      "source": "Выведите на экран первые десять строк `spb_genres`:",
      "metadata": {
        "id": "5Doha_ODgyQ8"
      }
    },
    {
      "cell_type": "code",
      "source": "spb_genres.head(10) # просмотр первых 10 строк spb_genres",
      "metadata": {
        "id": "uaGJHjVU_Zcv"
      },
      "execution_count": 39,
      "outputs": [
        {
          "execution_count": 39,
          "output_type": "execute_result",
          "data": {
            "text/plain": [
              "genre\n",
              "pop            2431\n",
              "dance          1932\n",
              "rock           1879\n",
              "electronic     1736\n",
              "hiphop          960\n",
              "alternative     649\n",
              "classical       646\n",
              "rusrap          564\n",
              "ruspop          538\n",
              "world           515\n",
              "Name: genre, dtype: int64"
            ]
          },
          "metadata": {}
        }
      ]
    },
    {
      "cell_type": "markdown",
      "source": "**Выводы**",
      "metadata": {
        "id": "RY51YJYu_Zcv"
      }
    },
    {
      "cell_type": "markdown",
      "source": "Гипотеза частично подтвердилась:\n* Поп-музыка — самый популярный жанр в Москве, как и предполагала гипотеза. Более того, в топ-10 жанров встречается близкий жанр — русская популярная музыка.\n* Вопреки ожиданиям, рэп одинаково популярен в Москве и Петербурге. \n",
      "metadata": {
        "id": "nVhnJEm__Zcv"
      }
    },
    {
      "cell_type": "markdown",
      "source": "## Итоги исследования",
      "metadata": {
        "id": "ykKQ0N65_Zcv"
      }
    },
    {
      "cell_type": "markdown",
      "source": "Вы проверили три гипотезы и установили:\n\n1. День недели по-разному влияет на активность пользователей в Москве и Петербурге. \n\nПервая гипотеза полностью подтвердилась.\n\n2. Музыкальные предпочтения не сильно меняются в течение недели — будь то Москва или Петербург. Небольшие различия заметны в начале недели, по понедельникам:\n* в Москве слушают музыку жанра “world”,\n* в Петербурге — джаз и классику.\n\nТаким образом, вторая гипотеза подтвердилась лишь отчасти. Этот результат мог оказаться иным, если бы не пропуски в данных.\n\n3. Во вкусах пользователей Москвы и Петербурга больше общего чем различий. Вопреки ожиданиям, предпочтения жанров в Петербурге напоминают московские.\n\nТретья гипотеза не подтвердилась. Если различия в предпочтениях и существуют, на основной массе пользователей они незаметны.\n\n**На практике исследования содержат проверки статистических гипотез.**\nИз данных одного сервиса не всегда можно сделать вывод о всех жителях города.\nПроверки статистических гипотез покажут, насколько они достоверны, исходя из имеющихся данных. \nС методами проверок гипотез вы ещё познакомитесь в следующих темах.",
      "metadata": {
        "id": "tjUwbHb3_Zcv"
      }
    },
    {
      "cell_type": "code",
      "source": "",
      "metadata": {},
      "execution_count": null,
      "outputs": []
    }
  ]
}